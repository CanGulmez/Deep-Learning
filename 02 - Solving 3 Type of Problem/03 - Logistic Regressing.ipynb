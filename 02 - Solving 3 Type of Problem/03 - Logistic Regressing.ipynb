{
 "cells": [
  {
   "cell_type": "markdown",
   "id": "982df4d9",
   "metadata": {},
   "source": [
    "# Logistic regression\n",
    "\n",
    "Predict house pricing of a given Bostion suburb during the '70s"
   ]
  },
  {
   "cell_type": "code",
   "execution_count": 91,
   "id": "ea016470",
   "metadata": {},
   "outputs": [],
   "source": [
    "import numpy as np \n",
    "import pandas as pd \n",
    "import matplotlib.pyplot as plt \n",
    "\n",
    "import tensorflow as tf\n",
    "from tensorflow.keras import models, layers, optimizers, losses, metrics\n",
    "from tensorflow.keras.datasets import boston_housing"
   ]
  },
  {
   "cell_type": "code",
   "execution_count": 92,
   "id": "424905e3",
   "metadata": {},
   "outputs": [
    {
     "data": {
      "text/plain": [
       "<module 'tensorflow.keras.datasets.boston_housing' from 'C:\\\\Users\\\\90545\\\\AppData\\\\Roaming\\\\Python\\\\Python38\\\\site-packages\\\\tensorflow\\\\keras\\\\datasets\\\\boston_housing\\\\__init__.py'>"
      ]
     },
     "execution_count": 92,
     "metadata": {},
     "output_type": "execute_result"
    }
   ],
   "source": [
    "boston_housing"
   ]
  },
  {
   "cell_type": "markdown",
   "id": "73854649",
   "metadata": {},
   "source": [
    "### Datasets\n",
    "\n",
    "Train data are features describing the suburb at the time, like crime rate, local property taxrate etc. Targets are the mediam values of owner-occupied homes, in thousands of dollars"
   ]
  },
  {
   "cell_type": "code",
   "execution_count": 93,
   "id": "c5c4bba0",
   "metadata": {},
   "outputs": [],
   "source": [
    "(train_data, train_targets), (test_data, test_targets) = boston_housing.load_data()"
   ]
  },
  {
   "cell_type": "code",
   "execution_count": 94,
   "id": "803b5cda",
   "metadata": {},
   "outputs": [
    {
     "data": {
      "text/plain": [
       "array([[1.23247e+00, 0.00000e+00, 8.14000e+00, ..., 2.10000e+01,\n",
       "        3.96900e+02, 1.87200e+01],\n",
       "       [2.17700e-02, 8.25000e+01, 2.03000e+00, ..., 1.47000e+01,\n",
       "        3.95380e+02, 3.11000e+00],\n",
       "       [4.89822e+00, 0.00000e+00, 1.81000e+01, ..., 2.02000e+01,\n",
       "        3.75520e+02, 3.26000e+00],\n",
       "       ...,\n",
       "       [3.46600e-02, 3.50000e+01, 6.06000e+00, ..., 1.69000e+01,\n",
       "        3.62250e+02, 7.83000e+00],\n",
       "       [2.14918e+00, 0.00000e+00, 1.95800e+01, ..., 1.47000e+01,\n",
       "        2.61950e+02, 1.57900e+01],\n",
       "       [1.43900e-02, 6.00000e+01, 2.93000e+00, ..., 1.56000e+01,\n",
       "        3.76700e+02, 4.38000e+00]])"
      ]
     },
     "execution_count": 94,
     "metadata": {},
     "output_type": "execute_result"
    }
   ],
   "source": [
    "train_data"
   ]
  },
  {
   "cell_type": "code",
   "execution_count": 95,
   "id": "f3ee79a3",
   "metadata": {},
   "outputs": [
    {
     "data": {
      "text/plain": [
       "(404, 13)"
      ]
     },
     "execution_count": 95,
     "metadata": {},
     "output_type": "execute_result"
    }
   ],
   "source": [
    "train_data.shape"
   ]
  },
  {
   "cell_type": "code",
   "execution_count": 96,
   "id": "e7b909de",
   "metadata": {},
   "outputs": [
    {
     "data": {
      "text/plain": [
       "array([  1.23247,   0.     ,   8.14   ,   0.     ,   0.538  ,   6.142  ,\n",
       "        91.7    ,   3.9769 ,   4.     , 307.     ,  21.     , 396.9    ,\n",
       "        18.72   ])"
      ]
     },
     "execution_count": 96,
     "metadata": {},
     "output_type": "execute_result"
    }
   ],
   "source": [
    "train_data[0]"
   ]
  },
  {
   "cell_type": "markdown",
   "id": "958862f4",
   "metadata": {},
   "source": [
    "train_targets"
   ]
  },
  {
   "cell_type": "markdown",
   "id": "b92f84f9",
   "metadata": {},
   "source": [
    "### Normalizing data\n",
    "\n",
    "Normalize data to avoid feeding the model with values having different ranges. Perform feature-wise normalization. Subtract the mean of the feature nd divide by the standard deviation.\n",
    "\n",
    "**NB**: test data is alao normalized with mean and standard deviation calculated on training data"
   ]
  },
  {
   "cell_type": "code",
   "execution_count": 97,
   "id": "c196226e",
   "metadata": {},
   "outputs": [],
   "source": [
    "from sklearn.preprocessing import StandardScaler"
   ]
  },
  {
   "cell_type": "code",
   "execution_count": 98,
   "id": "80c3c7b4",
   "metadata": {},
   "outputs": [],
   "source": [
    "sc = StandardScaler()"
   ]
  },
  {
   "cell_type": "code",
   "execution_count": 99,
   "id": "9d197dd6",
   "metadata": {},
   "outputs": [],
   "source": [
    "train_data = sc.fit_transform(train_data)\n",
    "test_data = sc.fit_transform(test_data)"
   ]
  },
  {
   "cell_type": "code",
   "execution_count": 100,
   "id": "6fb7e132",
   "metadata": {},
   "outputs": [
    {
     "data": {
      "text/plain": [
       "array([-0.27224633, -0.48361547, -0.43576161, -0.25683275, -0.1652266 ,\n",
       "       -0.1764426 ,  0.81306188,  0.1166983 , -0.62624905, -0.59517003,\n",
       "        1.14850044,  0.44807713,  0.8252202 ])"
      ]
     },
     "execution_count": 100,
     "metadata": {},
     "output_type": "execute_result"
    }
   ],
   "source": [
    "train_data[0]"
   ]
  },
  {
   "cell_type": "code",
   "execution_count": 101,
   "id": "e0e93d9e",
   "metadata": {},
   "outputs": [],
   "source": [
    "# mean = train_data.mean(axis = 0)\n",
    "# train_data -= mean\n",
    "\n",
    "# std = train_data.std(axis = 0)\n",
    "# train_data /= std\n",
    "\n",
    "# test_data -= mean\n",
    "# test_data /= std"
   ]
  },
  {
   "cell_type": "code",
   "execution_count": 102,
   "id": "b8c5118f",
   "metadata": {},
   "outputs": [],
   "source": [
    "# train_data[0]"
   ]
  },
  {
   "cell_type": "markdown",
   "id": "078e6247",
   "metadata": {},
   "source": [
    "### Building the model\n",
    "\n",
    "This will be a scalar regression, so the network will end with a single unit and no activation. Being the layer purely linear, the network is free to learn values in any range.\n",
    "\n",
    "**Loss:** mse, _mean squared error_, which is the square of the difference between predictions and targets.\n",
    "\n",
    "**Other metrics:** _mean absolute error_ (mae), which is the absolute value of the difference between predictions and targets"
   ]
  },
  {
   "cell_type": "code",
   "execution_count": 103,
   "id": "9a2167fb",
   "metadata": {},
   "outputs": [],
   "source": [
    "def model_build():\n",
    "    \n",
    "    model = models.Sequential()\n",
    "    model.add(layers.Dense(64, activation = \"relu\", input_shape = (train_data.shape[1], )))\n",
    "    model.add(layers.Dense(64, activation = \"relu\"))\n",
    "    model.add(layers.Dense(1))\n",
    "              \n",
    "    model.compile(optimizer = \"adam\", loss = \"mse\", metrics = [\"mae\"])\n",
    "              \n",
    "    return model"
   ]
  },
  {
   "cell_type": "markdown",
   "id": "f7f83340",
   "metadata": {},
   "source": [
    "### Validation\n",
    "\n",
    "The dataset does not have enough datapoints to have a reliable validation set that will not suffer of high variance depending on which portion of data will be chosen. So, we will use the K-fold cross-validation method for this model."
   ]
  },
  {
   "cell_type": "markdown",
   "id": "65eabcb8",
   "metadata": {},
   "source": [
    "#### K-Fold Cross Validation Method"
   ]
  },
  {
   "cell_type": "code",
   "execution_count": 110,
   "id": "49c10aab",
   "metadata": {},
   "outputs": [],
   "source": [
    "k = 4\n",
    "num_val_samples = len(train_data) // k\n",
    "num_epochs = 500\n",
    "all_mae_histories = []"
   ]
  },
  {
   "cell_type": "code",
   "execution_count": 111,
   "id": "6da13be9",
   "metadata": {},
   "outputs": [
    {
     "name": "stdout",
     "output_type": "stream",
     "text": [
      "Processing Fold: 0\n",
      "Processing Fold: 1\n",
      "Processing Fold: 2\n",
      "Processing Fold: 3\n"
     ]
    }
   ],
   "source": [
    "for i in range(k):\n",
    "    \n",
    "    print(\"Processing Fold: {}\".format(i))\n",
    "    \n",
    "    val_data = train_data[i * num_val_samples : (i + 1) * num_val_samples]\n",
    "    val_targets = train_targets[i * num_val_samples : (i + 1) * num_val_samples]\n",
    "    \n",
    "    partial_train_data = np.concatenate([train_data[: i * num_val_samples], \n",
    "                                        train_data[(i + 1) * num_val_samples:]], \n",
    "                                       axis = 0)\n",
    "    \n",
    "    partial_train_targets = np.concatenate([train_targets[: i * num_val_samples], \n",
    "                                            train_targets[(i + 1) * num_val_samples:]], \n",
    "                                            axis = 0)\n",
    "    \n",
    "    model = model_build()\n",
    "    history = model.fit(partial_train_data, \n",
    "                       partial_train_targets, \n",
    "                       epochs = num_epochs, \n",
    "                       verbose = 0, \n",
    "                       batch_size = 1, \n",
    "                       validation_data = (val_data, val_targets))\n",
    "    \n",
    "    mae_history = history.history[\"val_mae\"]\n",
    "    all_mae_histories.append(mae_history)"
   ]
  },
  {
   "cell_type": "code",
   "execution_count": 124,
   "id": "8b566476",
   "metadata": {},
   "outputs": [],
   "source": [
    "average_mae_history = [\n",
    "    np.mean([hist[i] for hist in all_mae_histories]) for i in range(num_epochs)\n",
    "]"
   ]
  },
  {
   "cell_type": "code",
   "execution_count": 125,
   "id": "ffd8c889",
   "metadata": {},
   "outputs": [
    {
     "data": {
      "image/png": "[encoded data removed]",
      "text/plain": [
       "<Figure size 432x288 with 1 Axes>"
      ]
     },
     "metadata": {
      "needs_background": "light"
     },
     "output_type": "display_data"
    }
   ],
   "source": [
    "plt.plot(range(1, len(average_mae_history) + 1), average_mae_history)\n",
    "plt.xlabel(\"Epochs\")\n",
    "plt.ylabel(\"Validation MAE\")\n",
    "plt.show()"
   ]
  },
  {
   "cell_type": "markdown",
   "id": "c575a522",
   "metadata": {},
   "source": [
    "Despite presenting values in different scale, we can see that the MAE stops decreasing and increases again, showing a possible overfitting. In order to determine more exactly when it happens, we have to make the curve smoother:\n",
    "\n",
    "- omit the first 10 data points that are on a different scale;\n",
    "- replace each point with an exponential moving average of the previous points"
   ]
  },
  {
   "cell_type": "code",
   "execution_count": 126,
   "id": "fb02fd83",
   "metadata": {},
   "outputs": [],
   "source": [
    "def smooth_curve(points, factor = 0.9):\n",
    "    \n",
    "    smoothed_points = []\n",
    "    \n",
    "    for point in points:\n",
    "        if smoothed_points:\n",
    "            previous = smoothed_points = [-1]\n",
    "            smoothed_points.append(previous * factor + point * (factor + 1))\n",
    "        else:\n",
    "            smoothed_points.append(point)\n",
    "            \n",
    "    return smoothed_points"
   ]
  },
  {
   "cell_type": "code",
   "execution_count": 130,
   "id": "59a5883e",
   "metadata": {},
   "outputs": [],
   "source": [
    "smooth_mae_history = smooth_curve(points = all_mae_histories[10:])"
   ]
  },
  {
   "cell_type": "code",
   "execution_count": 131,
   "id": "ab8d4f45",
   "metadata": {},
   "outputs": [
    {
     "data": {
      "image/png": "[encoded data removed]",
      "text/plain": [
       "<Figure size 432x288 with 1 Axes>"
      ]
     },
     "metadata": {
      "needs_background": "light"
     },
     "output_type": "display_data"
    }
   ],
   "source": [
    "plt.clf()\n",
    "plt.plot(range(1, len(smooth_mae_history) + 1), smooth_mae_history)\n",
    "plt.xlabel(\"Epochs\")\n",
    "plt.ylabel(\"Validation MAE\")\n",
    "plt.show()"
   ]
  },
  {
   "cell_type": "code",
   "execution_count": 132,
   "id": "878c1f26",
   "metadata": {},
   "outputs": [],
   "source": [
    "model = model_build()"
   ]
  },
  {
   "cell_type": "code",
   "execution_count": 134,
   "id": "c4562084",
   "metadata": {},
   "outputs": [
    {
     "name": "stdout",
     "output_type": "stream",
     "text": [
      "Epoch 1/55\n",
      "26/26 [==============================] - 3s 17ms/step - loss: 575.4129 - mae: 22.1299 - val_loss: 521.3309 - val_mae: 20.7414\n",
      "Epoch 2/55\n",
      "26/26 [==============================] - 0s 6ms/step - loss: 484.7196 - mae: 19.6703 - val_loss: 371.6900 - val_mae: 17.0516\n",
      "Epoch 3/55\n",
      "26/26 [==============================] - 0s 6ms/step - loss: 298.1151 - mae: 14.8713 - val_loss: 175.1537 - val_mae: 11.4792\n",
      "Epoch 4/55\n",
      "26/26 [==============================] - 0s 7ms/step - loss: 132.7174 - mae: 9.0983 - val_loss: 68.0379 - val_mae: 6.6687\n",
      "Epoch 5/55\n",
      "26/26 [==============================] - 0s 6ms/step - loss: 45.8639 - mae: 5.1209 - val_loss: 41.6475 - val_mae: 5.0679\n",
      "Epoch 6/55\n",
      "26/26 [==============================] - 0s 6ms/step - loss: 43.2609 - mae: 4.6894 - val_loss: 30.5649 - val_mae: 4.3717\n",
      "Epoch 7/55\n",
      "26/26 [==============================] - 0s 11ms/step - loss: 30.6245 - mae: 3.8120 - val_loss: 25.8204 - val_mae: 3.9817\n",
      "Epoch 8/55\n",
      "26/26 [==============================] - 0s 8ms/step - loss: 28.3691 - mae: 3.7521 - val_loss: 23.6488 - val_mae: 3.7278\n",
      "Epoch 9/55\n",
      "26/26 [==============================] - 0s 15ms/step - loss: 27.6376 - mae: 3.3508 - val_loss: 22.1196 - val_mae: 3.5365\n",
      "Epoch 10/55\n",
      "26/26 [==============================] - 1s 27ms/step - loss: 20.9980 - mae: 3.2290 - val_loss: 21.0497 - val_mae: 3.3646\n",
      "Epoch 11/55\n",
      "26/26 [==============================] - 0s 20ms/step - loss: 14.4965 - mae: 2.7955 - val_loss: 20.4529 - val_mae: 3.2806\n",
      "Epoch 12/55\n",
      "26/26 [==============================] - 0s 11ms/step - loss: 17.0509 - mae: 2.9774 - val_loss: 20.6182 - val_mae: 3.2256\n",
      "Epoch 13/55\n",
      "26/26 [==============================] - 0s 9ms/step - loss: 14.0793 - mae: 2.6196 - val_loss: 20.1951 - val_mae: 3.1434\n",
      "Epoch 14/55\n",
      "26/26 [==============================] - 0s 9ms/step - loss: 12.9559 - mae: 2.6202 - val_loss: 20.1060 - val_mae: 3.1239\n",
      "Epoch 15/55\n",
      "26/26 [==============================] - 1s 23ms/step - loss: 16.6977 - mae: 2.8011 - val_loss: 20.2575 - val_mae: 3.0984\n",
      "Epoch 16/55\n",
      "26/26 [==============================] - 0s 11ms/step - loss: 11.4296 - mae: 2.4437 - val_loss: 20.2684 - val_mae: 3.0880\n",
      "Epoch 17/55\n",
      "26/26 [==============================] - 0s 9ms/step - loss: 12.8800 - mae: 2.4813 - val_loss: 20.0004 - val_mae: 3.0830\n",
      "Epoch 18/55\n",
      "26/26 [==============================] - 0s 17ms/step - loss: 15.3640 - mae: 2.5986 - val_loss: 20.1786 - val_mae: 3.1127\n",
      "Epoch 19/55\n",
      "26/26 [==============================] - 0s 16ms/step - loss: 9.6300 - mae: 2.3031 - val_loss: 19.9846 - val_mae: 3.0229\n",
      "Epoch 20/55\n",
      "26/26 [==============================] - 0s 10ms/step - loss: 10.6605 - mae: 2.4179 - val_loss: 20.2070 - val_mae: 3.1018\n",
      "Epoch 21/55\n",
      "26/26 [==============================] - 0s 9ms/step - loss: 11.2605 - mae: 2.3364 - val_loss: 20.0326 - val_mae: 3.0104\n",
      "Epoch 22/55\n",
      "26/26 [==============================] - 0s 7ms/step - loss: 11.9266 - mae: 2.4362 - val_loss: 20.4126 - val_mae: 3.0439\n",
      "Epoch 23/55\n",
      "26/26 [==============================] - 0s 7ms/step - loss: 10.7919 - mae: 2.4319 - val_loss: 20.3105 - val_mae: 3.0138\n",
      "Epoch 24/55\n",
      "26/26 [==============================] - 0s 11ms/step - loss: 10.4676 - mae: 2.3701 - val_loss: 20.2132 - val_mae: 2.9886\n",
      "Epoch 25/55\n",
      "26/26 [==============================] - 1s 25ms/step - loss: 9.8789 - mae: 2.2351 - val_loss: 20.2218 - val_mae: 3.0177\n",
      "Epoch 26/55\n",
      "26/26 [==============================] - 0s 11ms/step - loss: 9.0878 - mae: 2.2211 - val_loss: 20.1932 - val_mae: 2.9552\n",
      "Epoch 27/55\n",
      "26/26 [==============================] - 0s 16ms/step - loss: 10.0633 - mae: 2.2119 - val_loss: 20.4569 - val_mae: 2.9915\n",
      "Epoch 28/55\n",
      "26/26 [==============================] - 0s 9ms/step - loss: 8.4439 - mae: 2.1215 - val_loss: 20.4465 - val_mae: 2.9646\n",
      "Epoch 29/55\n",
      "26/26 [==============================] - 0s 9ms/step - loss: 9.0794 - mae: 2.2742 - val_loss: 20.3624 - val_mae: 2.9696\n",
      "Epoch 30/55\n",
      "26/26 [==============================] - 0s 7ms/step - loss: 8.3024 - mae: 2.2159 - val_loss: 20.5754 - val_mae: 2.9719\n",
      "Epoch 31/55\n",
      "26/26 [==============================] - 0s 18ms/step - loss: 12.5553 - mae: 2.3548 - val_loss: 19.9770 - val_mae: 2.9119\n",
      "Epoch 32/55\n",
      "26/26 [==============================] - 0s 7ms/step - loss: 8.2526 - mae: 2.1392 - val_loss: 20.2844 - val_mae: 2.9306\n",
      "Epoch 33/55\n",
      "26/26 [==============================] - 0s 19ms/step - loss: 7.9601 - mae: 2.0670 - val_loss: 20.2733 - val_mae: 2.8831\n",
      "Epoch 34/55\n",
      "26/26 [==============================] - 0s 7ms/step - loss: 11.0982 - mae: 2.2589 - val_loss: 20.9133 - val_mae: 3.0154\n",
      "Epoch 35/55\n",
      "26/26 [==============================] - 0s 8ms/step - loss: 8.4489 - mae: 2.0590 - val_loss: 20.2377 - val_mae: 2.8950\n",
      "Epoch 36/55\n",
      "26/26 [==============================] - 0s 13ms/step - loss: 8.8720 - mae: 2.2168 - val_loss: 19.8875 - val_mae: 2.8555\n",
      "Epoch 37/55\n",
      "26/26 [==============================] - 0s 7ms/step - loss: 7.7597 - mae: 2.0536 - val_loss: 20.1408 - val_mae: 2.8576\n",
      "Epoch 38/55\n",
      "26/26 [==============================] - 0s 8ms/step - loss: 9.4036 - mae: 2.1526 - val_loss: 20.1057 - val_mae: 2.8582\n",
      "Epoch 39/55\n",
      "26/26 [==============================] - 1s 26ms/step - loss: 7.5953 - mae: 2.0058 - val_loss: 20.2439 - val_mae: 2.8609\n",
      "Epoch 40/55\n",
      "26/26 [==============================] - 1s 27ms/step - loss: 7.5411 - mae: 1.9769 - val_loss: 20.3342 - val_mae: 2.9348\n",
      "Epoch 41/55\n",
      "26/26 [==============================] - 1s 21ms/step - loss: 8.2851 - mae: 2.1043 - val_loss: 19.8838 - val_mae: 2.8218\n",
      "Epoch 42/55\n",
      "26/26 [==============================] - 0s 8ms/step - loss: 10.8575 - mae: 2.2481 - val_loss: 20.5586 - val_mae: 2.9632\n",
      "Epoch 43/55\n",
      "26/26 [==============================] - 0s 8ms/step - loss: 8.2818 - mae: 2.0204 - val_loss: 19.8317 - val_mae: 2.8317\n",
      "Epoch 44/55\n",
      "26/26 [==============================] - 1s 45ms/step - loss: 6.7938 - mae: 1.9456 - val_loss: 19.6735 - val_mae: 2.8130\n",
      "Epoch 45/55\n",
      "26/26 [==============================] - 1s 26ms/step - loss: 8.2183 - mae: 2.1675 - val_loss: 19.7356 - val_mae: 2.7735\n",
      "Epoch 46/55\n",
      "26/26 [==============================] - 1s 22ms/step - loss: 7.5341 - mae: 2.0276 - val_loss: 19.6965 - val_mae: 2.8007\n",
      "Epoch 47/55\n",
      "26/26 [==============================] - 0s 6ms/step - loss: 6.7664 - mae: 1.9214 - val_loss: 19.4657 - val_mae: 2.7433\n",
      "Epoch 48/55\n",
      "26/26 [==============================] - 0s 13ms/step - loss: 7.9184 - mae: 1.9856 - val_loss: 19.6710 - val_mae: 2.7959\n",
      "Epoch 49/55\n",
      "26/26 [==============================] - 0s 16ms/step - loss: 7.2388 - mae: 1.9086 - val_loss: 19.0780 - val_mae: 2.7580\n",
      "Epoch 50/55\n",
      "26/26 [==============================] - 1s 28ms/step - loss: 7.4045 - mae: 1.9493 - val_loss: 21.1183 - val_mae: 3.0846\n",
      "Epoch 51/55\n",
      "26/26 [==============================] - 0s 13ms/step - loss: 7.1358 - mae: 1.9570 - val_loss: 19.2097 - val_mae: 2.7588\n",
      "Epoch 52/55\n",
      "26/26 [==============================] - 0s 13ms/step - loss: 6.5249 - mae: 1.8857 - val_loss: 19.5078 - val_mae: 2.7777\n",
      "Epoch 53/55\n",
      "26/26 [==============================] - 1s 34ms/step - loss: 7.8062 - mae: 1.9813 - val_loss: 18.9802 - val_mae: 2.7352\n",
      "Epoch 54/55\n",
      "26/26 [==============================] - 0s 17ms/step - loss: 5.9941 - mae: 1.8334 - val_loss: 19.1879 - val_mae: 2.7489\n",
      "Epoch 55/55\n",
      "26/26 [==============================] - 0s 13ms/step - loss: 6.7683 - mae: 1.9632 - val_loss: 19.0216 - val_mae: 2.7561\n",
      "4/4 [==============================] - 0s 4ms/step - loss: 19.0216 - mae: 2.7561\n"
     ]
    }
   ],
   "source": [
    "model.fit(train_data, \n",
    "         train_targets, \n",
    "         epochs = 55, \n",
    "         batch_size = 16, \n",
    "         validation_data = (test_data, test_targets))\n",
    "\n",
    "test_mse_score, test_mae_score = model.evaluate(test_data, test_targets)"
   ]
  },
  {
   "cell_type": "code",
   "execution_count": 135,
   "id": "657531e0",
   "metadata": {},
   "outputs": [
    {
     "name": "stdout",
     "output_type": "stream",
     "text": [
      "test_mse_score: 19.021556854248047\n"
     ]
    }
   ],
   "source": [
    "print(\"test_mse_score: {}\".format(test_mse_score))"
   ]
  },
  {
   "cell_type": "code",
   "execution_count": 138,
   "id": "c9ad510d",
   "metadata": {},
   "outputs": [
    {
     "name": "stdout",
     "output_type": "stream",
     "text": [
      "test_mae_score: 2.756114959716797\n"
     ]
    }
   ],
   "source": [
    "print(\"test_mae_score: {}\".format(test_mae_score))"
   ]
  },
  {
   "cell_type": "markdown",
   "id": "a7eab327",
   "metadata": {},
   "source": [
    "The results show that we are still off by about `$2750`"
   ]
  },
  {
   "cell_type": "code",
   "execution_count": null,
   "id": "a7d58847",
   "metadata": {},
   "outputs": [],
   "source": []
  }
 ],
 "metadata": {
  "kernelspec": {
   "display_name": "Python 3",
   "language": "python",
   "name": "python3"
  },
  "language_info": {
   "codemirror_mode": {
    "name": "ipython",
    "version": 3
   },
   "file_extension": ".py",
   "mimetype": "text/x-python",
   "name": "python",
   "nbconvert_exporter": "python",
   "pygments_lexer": "ipython3",
   "version": "3.8.10"
  }
 },
 "nbformat": 4,
 "nbformat_minor": 5
}

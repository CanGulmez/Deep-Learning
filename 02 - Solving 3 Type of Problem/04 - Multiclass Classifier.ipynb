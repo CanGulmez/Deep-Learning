{
 "cells": [
  {
   "cell_type": "code",
   "execution_count": 62,
   "id": "a1f354f1",
   "metadata": {},
   "outputs": [],
   "source": [
    "import numpy as np \n",
    "import pandas as pd\n",
    "import matplotlib.pyplot as plt\n",
    "\n",
    "from tensorflow.keras import models, layers, losses, metrics, optimizers, regularizers\n",
    "from sklearn.datasets import load_diabetes, load_iris, load_boston, load_breast_cancer, load_wine"
   ]
  },
  {
   "cell_type": "code",
   "execution_count": 63,
   "id": "1405b7f5",
   "metadata": {},
   "outputs": [],
   "source": [
    "wine = load_wine()"
   ]
  },
  {
   "cell_type": "code",
   "execution_count": 64,
   "id": "214629af",
   "metadata": {},
   "outputs": [
    {
     "data": {
      "text/plain": [
       "dict_keys(['data', 'target', 'frame', 'target_names', 'DESCR', 'feature_names'])"
      ]
     },
     "execution_count": 64,
     "metadata": {},
     "output_type": "execute_result"
    }
   ],
   "source": [
    "wine.keys()"
   ]
  },
  {
   "cell_type": "code",
   "execution_count": 65,
   "id": "8d06d2e3",
   "metadata": {},
   "outputs": [
    {
     "data": {
      "text/html": [
       "<div>\n",
       "<style scoped>\n",
       "    .dataframe tbody tr th:only-of-type {\n",
       "        vertical-align: middle;\n",
       "    }\n",
       "\n",
       "    .dataframe tbody tr th {\n",
       "        vertical-align: top;\n",
       "    }\n",
       "\n",
       "    .dataframe thead th {\n",
       "        text-align: right;\n",
       "    }\n",
       "</style>\n",
       "<table border=\"1\" class=\"dataframe\">\n",
       "  <thead>\n",
       "    <tr style=\"text-align: right;\">\n",
       "      <th></th>\n",
       "      <th>0</th>\n",
       "      <th>1</th>\n",
       "      <th>2</th>\n",
       "      <th>3</th>\n",
       "      <th>4</th>\n",
       "      <th>5</th>\n",
       "      <th>6</th>\n",
       "      <th>7</th>\n",
       "      <th>8</th>\n",
       "      <th>9</th>\n",
       "      <th>10</th>\n",
       "      <th>11</th>\n",
       "      <th>12</th>\n",
       "    </tr>\n",
       "  </thead>\n",
       "  <tbody>\n",
       "    <tr>\n",
       "      <th>0</th>\n",
       "      <td>14.23</td>\n",
       "      <td>1.71</td>\n",
       "      <td>2.43</td>\n",
       "      <td>15.6</td>\n",
       "      <td>127.0</td>\n",
       "      <td>2.80</td>\n",
       "      <td>3.06</td>\n",
       "      <td>0.28</td>\n",
       "      <td>2.29</td>\n",
       "      <td>5.64</td>\n",
       "      <td>1.04</td>\n",
       "      <td>3.92</td>\n",
       "      <td>1065.0</td>\n",
       "    </tr>\n",
       "    <tr>\n",
       "      <th>1</th>\n",
       "      <td>13.20</td>\n",
       "      <td>1.78</td>\n",
       "      <td>2.14</td>\n",
       "      <td>11.2</td>\n",
       "      <td>100.0</td>\n",
       "      <td>2.65</td>\n",
       "      <td>2.76</td>\n",
       "      <td>0.26</td>\n",
       "      <td>1.28</td>\n",
       "      <td>4.38</td>\n",
       "      <td>1.05</td>\n",
       "      <td>3.40</td>\n",
       "      <td>1050.0</td>\n",
       "    </tr>\n",
       "    <tr>\n",
       "      <th>2</th>\n",
       "      <td>13.16</td>\n",
       "      <td>2.36</td>\n",
       "      <td>2.67</td>\n",
       "      <td>18.6</td>\n",
       "      <td>101.0</td>\n",
       "      <td>2.80</td>\n",
       "      <td>3.24</td>\n",
       "      <td>0.30</td>\n",
       "      <td>2.81</td>\n",
       "      <td>5.68</td>\n",
       "      <td>1.03</td>\n",
       "      <td>3.17</td>\n",
       "      <td>1185.0</td>\n",
       "    </tr>\n",
       "    <tr>\n",
       "      <th>3</th>\n",
       "      <td>14.37</td>\n",
       "      <td>1.95</td>\n",
       "      <td>2.50</td>\n",
       "      <td>16.8</td>\n",
       "      <td>113.0</td>\n",
       "      <td>3.85</td>\n",
       "      <td>3.49</td>\n",
       "      <td>0.24</td>\n",
       "      <td>2.18</td>\n",
       "      <td>7.80</td>\n",
       "      <td>0.86</td>\n",
       "      <td>3.45</td>\n",
       "      <td>1480.0</td>\n",
       "    </tr>\n",
       "    <tr>\n",
       "      <th>4</th>\n",
       "      <td>13.24</td>\n",
       "      <td>2.59</td>\n",
       "      <td>2.87</td>\n",
       "      <td>21.0</td>\n",
       "      <td>118.0</td>\n",
       "      <td>2.80</td>\n",
       "      <td>2.69</td>\n",
       "      <td>0.39</td>\n",
       "      <td>1.82</td>\n",
       "      <td>4.32</td>\n",
       "      <td>1.04</td>\n",
       "      <td>2.93</td>\n",
       "      <td>735.0</td>\n",
       "    </tr>\n",
       "    <tr>\n",
       "      <th>...</th>\n",
       "      <td>...</td>\n",
       "      <td>...</td>\n",
       "      <td>...</td>\n",
       "      <td>...</td>\n",
       "      <td>...</td>\n",
       "      <td>...</td>\n",
       "      <td>...</td>\n",
       "      <td>...</td>\n",
       "      <td>...</td>\n",
       "      <td>...</td>\n",
       "      <td>...</td>\n",
       "      <td>...</td>\n",
       "      <td>...</td>\n",
       "    </tr>\n",
       "    <tr>\n",
       "      <th>173</th>\n",
       "      <td>13.71</td>\n",
       "      <td>5.65</td>\n",
       "      <td>2.45</td>\n",
       "      <td>20.5</td>\n",
       "      <td>95.0</td>\n",
       "      <td>1.68</td>\n",
       "      <td>0.61</td>\n",
       "      <td>0.52</td>\n",
       "      <td>1.06</td>\n",
       "      <td>7.70</td>\n",
       "      <td>0.64</td>\n",
       "      <td>1.74</td>\n",
       "      <td>740.0</td>\n",
       "    </tr>\n",
       "    <tr>\n",
       "      <th>174</th>\n",
       "      <td>13.40</td>\n",
       "      <td>3.91</td>\n",
       "      <td>2.48</td>\n",
       "      <td>23.0</td>\n",
       "      <td>102.0</td>\n",
       "      <td>1.80</td>\n",
       "      <td>0.75</td>\n",
       "      <td>0.43</td>\n",
       "      <td>1.41</td>\n",
       "      <td>7.30</td>\n",
       "      <td>0.70</td>\n",
       "      <td>1.56</td>\n",
       "      <td>750.0</td>\n",
       "    </tr>\n",
       "    <tr>\n",
       "      <th>175</th>\n",
       "      <td>13.27</td>\n",
       "      <td>4.28</td>\n",
       "      <td>2.26</td>\n",
       "      <td>20.0</td>\n",
       "      <td>120.0</td>\n",
       "      <td>1.59</td>\n",
       "      <td>0.69</td>\n",
       "      <td>0.43</td>\n",
       "      <td>1.35</td>\n",
       "      <td>10.20</td>\n",
       "      <td>0.59</td>\n",
       "      <td>1.56</td>\n",
       "      <td>835.0</td>\n",
       "    </tr>\n",
       "    <tr>\n",
       "      <th>176</th>\n",
       "      <td>13.17</td>\n",
       "      <td>2.59</td>\n",
       "      <td>2.37</td>\n",
       "      <td>20.0</td>\n",
       "      <td>120.0</td>\n",
       "      <td>1.65</td>\n",
       "      <td>0.68</td>\n",
       "      <td>0.53</td>\n",
       "      <td>1.46</td>\n",
       "      <td>9.30</td>\n",
       "      <td>0.60</td>\n",
       "      <td>1.62</td>\n",
       "      <td>840.0</td>\n",
       "    </tr>\n",
       "    <tr>\n",
       "      <th>177</th>\n",
       "      <td>14.13</td>\n",
       "      <td>4.10</td>\n",
       "      <td>2.74</td>\n",
       "      <td>24.5</td>\n",
       "      <td>96.0</td>\n",
       "      <td>2.05</td>\n",
       "      <td>0.76</td>\n",
       "      <td>0.56</td>\n",
       "      <td>1.35</td>\n",
       "      <td>9.20</td>\n",
       "      <td>0.61</td>\n",
       "      <td>1.60</td>\n",
       "      <td>560.0</td>\n",
       "    </tr>\n",
       "  </tbody>\n",
       "</table>\n",
       "<p>178 rows × 13 columns</p>\n",
       "</div>"
      ],
      "text/plain": [
       "        0     1     2     3      4     5     6     7     8      9     10  \\\n",
       "0    14.23  1.71  2.43  15.6  127.0  2.80  3.06  0.28  2.29   5.64  1.04   \n",
       "1    13.20  1.78  2.14  11.2  100.0  2.65  2.76  0.26  1.28   4.38  1.05   \n",
       "2    13.16  2.36  2.67  18.6  101.0  2.80  3.24  0.30  2.81   5.68  1.03   \n",
       "3    14.37  1.95  2.50  16.8  113.0  3.85  3.49  0.24  2.18   7.80  0.86   \n",
       "4    13.24  2.59  2.87  21.0  118.0  2.80  2.69  0.39  1.82   4.32  1.04   \n",
       "..     ...   ...   ...   ...    ...   ...   ...   ...   ...    ...   ...   \n",
       "173  13.71  5.65  2.45  20.5   95.0  1.68  0.61  0.52  1.06   7.70  0.64   \n",
       "174  13.40  3.91  2.48  23.0  102.0  1.80  0.75  0.43  1.41   7.30  0.70   \n",
       "175  13.27  4.28  2.26  20.0  120.0  1.59  0.69  0.43  1.35  10.20  0.59   \n",
       "176  13.17  2.59  2.37  20.0  120.0  1.65  0.68  0.53  1.46   9.30  0.60   \n",
       "177  14.13  4.10  2.74  24.5   96.0  2.05  0.76  0.56  1.35   9.20  0.61   \n",
       "\n",
       "       11      12  \n",
       "0    3.92  1065.0  \n",
       "1    3.40  1050.0  \n",
       "2    3.17  1185.0  \n",
       "3    3.45  1480.0  \n",
       "4    2.93   735.0  \n",
       "..    ...     ...  \n",
       "173  1.74   740.0  \n",
       "174  1.56   750.0  \n",
       "175  1.56   835.0  \n",
       "176  1.62   840.0  \n",
       "177  1.60   560.0  \n",
       "\n",
       "[178 rows x 13 columns]"
      ]
     },
     "execution_count": 65,
     "metadata": {},
     "output_type": "execute_result"
    }
   ],
   "source": [
    "pd.DataFrame(wine.data)"
   ]
  },
  {
   "cell_type": "code",
   "execution_count": 66,
   "id": "4d019d5b",
   "metadata": {},
   "outputs": [
    {
     "data": {
      "text/plain": [
       "array([0, 0, 0, 0, 0, 0, 0, 0, 0, 0, 0, 0, 0, 0, 0, 0, 0, 0, 0, 0, 0, 0,\n",
       "       0, 0, 0, 0, 0, 0, 0, 0, 0, 0, 0, 0, 0, 0, 0, 0, 0, 0, 0, 0, 0, 0,\n",
       "       0, 0, 0, 0, 0, 0, 0, 0, 0, 0, 0, 0, 0, 0, 0, 1, 1, 1, 1, 1, 1, 1,\n",
       "       1, 1, 1, 1, 1, 1, 1, 1, 1, 1, 1, 1, 1, 1, 1, 1, 1, 1, 1, 1, 1, 1,\n",
       "       1, 1, 1, 1, 1, 1, 1, 1, 1, 1, 1, 1, 1, 1, 1, 1, 1, 1, 1, 1, 1, 1,\n",
       "       1, 1, 1, 1, 1, 1, 1, 1, 1, 1, 1, 1, 1, 1, 1, 1, 1, 1, 1, 1, 2, 2,\n",
       "       2, 2, 2, 2, 2, 2, 2, 2, 2, 2, 2, 2, 2, 2, 2, 2, 2, 2, 2, 2, 2, 2,\n",
       "       2, 2, 2, 2, 2, 2, 2, 2, 2, 2, 2, 2, 2, 2, 2, 2, 2, 2, 2, 2, 2, 2,\n",
       "       2, 2])"
      ]
     },
     "execution_count": 66,
     "metadata": {},
     "output_type": "execute_result"
    }
   ],
   "source": [
    "wine.target"
   ]
  },
  {
   "cell_type": "code",
   "execution_count": 67,
   "id": "88d42220",
   "metadata": {},
   "outputs": [],
   "source": [
    "from sklearn.model_selection import train_test_split"
   ]
  },
  {
   "cell_type": "code",
   "execution_count": 68,
   "id": "4465174f",
   "metadata": {},
   "outputs": [],
   "source": [
    "train_data, test_data, train_targets, test_targets = train_test_split(wine.data, \n",
    "                                                                     wine.target, \n",
    "                                                                     test_size = 1/3,\n",
    "                                                                     random_state = 1)"
   ]
  },
  {
   "cell_type": "code",
   "execution_count": 69,
   "id": "f68e5034",
   "metadata": {},
   "outputs": [
    {
     "data": {
      "text/plain": [
       "(118, 13)"
      ]
     },
     "execution_count": 69,
     "metadata": {},
     "output_type": "execute_result"
    }
   ],
   "source": [
    "train_data.shape"
   ]
  },
  {
   "cell_type": "code",
   "execution_count": 70,
   "id": "e080d04c",
   "metadata": {},
   "outputs": [
    {
     "data": {
      "text/plain": [
       "(60, 13)"
      ]
     },
     "execution_count": 70,
     "metadata": {},
     "output_type": "execute_result"
    }
   ],
   "source": [
    "test_data.shape"
   ]
  },
  {
   "cell_type": "code",
   "execution_count": 71,
   "id": "06b46df9",
   "metadata": {},
   "outputs": [],
   "source": [
    "train_data = np.array(train_data).astype(\"int\")\n",
    "test_data = np.array(test_data).astype(\"int\")"
   ]
  },
  {
   "cell_type": "code",
   "execution_count": 72,
   "id": "d193bea6",
   "metadata": {},
   "outputs": [],
   "source": [
    "LIMIT_WORD = 5000"
   ]
  },
  {
   "cell_type": "code",
   "execution_count": 73,
   "id": "1cfb3498",
   "metadata": {},
   "outputs": [],
   "source": [
    "def vectorize_sequences(sequences, dimension = LIMIT_WORD):\n",
    "    \n",
    "    result = np.zeros((len(sequences), dimension))\n",
    "    for i, sequence in enumerate(sequences):\n",
    "        result[i, sequence] = 1\n",
    "        \n",
    "    return result"
   ]
  },
  {
   "cell_type": "code",
   "execution_count": 74,
   "id": "d81c4db3",
   "metadata": {},
   "outputs": [],
   "source": [
    "train_data = vectorize_sequences(train_data)\n",
    "test_data = vectorize_sequences(test_data)"
   ]
  },
  {
   "cell_type": "code",
   "execution_count": 75,
   "id": "0fc243cc",
   "metadata": {},
   "outputs": [
    {
     "data": {
      "text/plain": [
       "array([[1., 0., 1., ..., 0., 0., 0.],\n",
       "       [1., 1., 1., ..., 0., 0., 0.],\n",
       "       [1., 1., 1., ..., 0., 0., 0.],\n",
       "       ...,\n",
       "       [1., 1., 1., ..., 0., 0., 0.],\n",
       "       [1., 1., 1., ..., 0., 0., 0.],\n",
       "       [1., 1., 1., ..., 0., 0., 0.]])"
      ]
     },
     "execution_count": 75,
     "metadata": {},
     "output_type": "execute_result"
    }
   ],
   "source": [
    "train_data"
   ]
  },
  {
   "cell_type": "code",
   "execution_count": 76,
   "id": "7254c4ca",
   "metadata": {},
   "outputs": [],
   "source": [
    "from tensorflow.keras.utils import to_categorical"
   ]
  },
  {
   "cell_type": "code",
   "execution_count": 77,
   "id": "98109fd5",
   "metadata": {},
   "outputs": [],
   "source": [
    "train_targets = to_categorical(train_targets)\n",
    "test_targets = to_categorical(test_targets)"
   ]
  },
  {
   "cell_type": "code",
   "execution_count": 78,
   "id": "7f73de36",
   "metadata": {},
   "outputs": [
    {
     "data": {
      "text/plain": [
       "(60, 3)"
      ]
     },
     "execution_count": 78,
     "metadata": {},
     "output_type": "execute_result"
    }
   ],
   "source": [
    "test_targets.shape"
   ]
  },
  {
   "cell_type": "code",
   "execution_count": 79,
   "id": "29513a31",
   "metadata": {},
   "outputs": [
    {
     "data": {
      "text/plain": [
       "array([0., 1., 0.], dtype=float32)"
      ]
     },
     "execution_count": 79,
     "metadata": {},
     "output_type": "execute_result"
    }
   ],
   "source": [
    "train_targets[0]"
   ]
  },
  {
   "cell_type": "code",
   "execution_count": 119,
   "id": "1474b9b1",
   "metadata": {},
   "outputs": [],
   "source": [
    "def build_model():\n",
    "\n",
    "    model = models.Sequential()\n",
    "\n",
    "    model.add(layers.Dense(64,  \n",
    "                           activation = \"relu\", \n",
    "                           kernel_regularizer = regularizers.l1_l2(0.001), \n",
    "                           input_shape = (LIMIT_WORD, )))\n",
    "    model.add(layers.Dropout(0.1))\n",
    "    model.add(layers.Dense(32, \n",
    "                           activation = \"relu\", \n",
    "                           kernel_regularizer = regularizers.l1_l2(0.001)))\n",
    "    model.add(layers.Dropout(0.1))\n",
    "    model.add(layers.Dense(16, \n",
    "                           activation = \"relu\", \n",
    "                           kernel_regularizer = regularizers.l1_l2(0.001)))\n",
    "    model.add(layers.Dropout(0.1))\n",
    "    model.add(layers.Dense(3, \n",
    "                           activation = \"softmax\"))\n",
    "\n",
    "    model.compile(optimizer = optimizers.RMSprop(lr = 0.001), \n",
    "                  loss = losses.categorical_crossentropy, \n",
    "                  metrics = metrics.categorical_accuracy)\n",
    "    \n",
    "    return model"
   ]
  },
  {
   "cell_type": "code",
   "execution_count": 120,
   "id": "d28676c2",
   "metadata": {},
   "outputs": [],
   "source": [
    "k = 4\n",
    "num_val_samples = len(train_data) // k\n",
    "num_epochs = 100\n",
    "all_score = []"
   ]
  },
  {
   "cell_type": "code",
   "execution_count": 122,
   "id": "a60faecf",
   "metadata": {},
   "outputs": [
    {
     "name": "stdout",
     "output_type": "stream",
     "text": [
      "Processing Fold: 0\n",
      "Processing Fold: 1\n",
      "Processing Fold: 2\n",
      "Processing Fold: 3\n"
     ]
    }
   ],
   "source": [
    "for i in range(k):\n",
    "    \n",
    "    print(\"Processing Fold: {}\".format(i))\n",
    "    \n",
    "    val_data = train_data[i * num_val_samples : (i + 1) * num_val_samples]\n",
    "    val_targets = train_targets[i * num_val_samples : (i + 1) * num_val_samples]\n",
    "    \n",
    "    partial_train_data = np.concatenate([train_data[: i * num_val_samples], \n",
    "                                        train_data[(i + 1) * num_val_samples:]], \n",
    "                                       axis = 0)\n",
    "    \n",
    "    partial_train_targets = np.concatenate([train_targets[: i * num_val_samples], \n",
    "                                            train_targets[(i + 1) * num_val_samples:]], \n",
    "                                            axis = 0)\n",
    "    \n",
    "    model = build_model()\n",
    "    history = model.fit(partial_train_data, \n",
    "                       partial_train_targets, \n",
    "                       epochs = num_epochs, \n",
    "                       verbose = 0, \n",
    "                       batch_size = 1, \n",
    "                       validation_data = (val_data, val_targets))\n",
    "    \n",
    "    x = history.history[\"val_categorical_accuracy\"]\n",
    "    all_score.append(x)"
   ]
  },
  {
   "cell_type": "code",
   "execution_count": 123,
   "id": "8cf9a2c3",
   "metadata": {},
   "outputs": [],
   "source": [
    "average = [\n",
    "    np.mean([hist[i] for hist in all_score]) for i in range(num_epochs)\n",
    "]"
   ]
  },
  {
   "cell_type": "code",
   "execution_count": 128,
   "id": "b87a8a4b",
   "metadata": {},
   "outputs": [
    {
     "data": {
      "image/png": "[encoded data removed]",
      "text/plain": [
       "<Figure size 432x288 with 1 Axes>"
      ]
     },
     "metadata": {
      "needs_background": "light"
     },
     "output_type": "display_data"
    }
   ],
   "source": [
    "plt.plot(range(1, len(average) + 1), average)\n",
    "plt.xlabel(\"Epochs\")\n",
    "plt.ylabel(\"Validation Accuracy\")\n",
    "plt.show()"
   ]
  },
  {
   "cell_type": "code",
   "execution_count": 129,
   "id": "6ea7bc7e",
   "metadata": {},
   "outputs": [],
   "source": [
    "model = build_model()"
   ]
  },
  {
   "cell_type": "code",
   "execution_count": 132,
   "id": "a0e13a6e",
   "metadata": {},
   "outputs": [
    {
     "name": "stdout",
     "output_type": "stream",
     "text": [
      "Epoch 1/82\n",
      "1/1 [==============================] - 3s 3s/step - loss: 8.8761 - categorical_accuracy: 0.2966 - val_loss: 7.6091 - val_categorical_accuracy: 0.4000\n",
      "Epoch 2/82\n",
      "1/1 [==============================] - 0s 126ms/step - loss: 7.6084 - categorical_accuracy: 0.3559 - val_loss: 6.7722 - val_categorical_accuracy: 0.4167\n",
      "Epoch 3/82\n",
      "1/1 [==============================] - 0s 130ms/step - loss: 6.7698 - categorical_accuracy: 0.4492 - val_loss: 6.1433 - val_categorical_accuracy: 0.5833\n",
      "Epoch 4/82\n",
      "1/1 [==============================] - 0s 135ms/step - loss: 6.1407 - categorical_accuracy: 0.5763 - val_loss: 5.6213 - val_categorical_accuracy: 0.7000\n",
      "Epoch 5/82\n",
      "1/1 [==============================] - 0s 120ms/step - loss: 5.6159 - categorical_accuracy: 0.6780 - val_loss: 5.1832 - val_categorical_accuracy: 0.7500\n",
      "Epoch 6/82\n",
      "1/1 [==============================] - 0s 110ms/step - loss: 5.1768 - categorical_accuracy: 0.7034 - val_loss: 4.7965 - val_categorical_accuracy: 0.7167\n",
      "Epoch 7/82\n",
      "1/1 [==============================] - 0s 210ms/step - loss: 4.7886 - categorical_accuracy: 0.6949 - val_loss: 4.4614 - val_categorical_accuracy: 0.7500\n",
      "Epoch 8/82\n",
      "1/1 [==============================] - 0s 278ms/step - loss: 4.4512 - categorical_accuracy: 0.7542 - val_loss: 4.1585 - val_categorical_accuracy: 0.7833\n",
      "Epoch 9/82\n",
      "1/1 [==============================] - 0s 210ms/step - loss: 4.1399 - categorical_accuracy: 0.7627 - val_loss: 3.8911 - val_categorical_accuracy: 0.6833\n",
      "Epoch 10/82\n",
      "1/1 [==============================] - 0s 131ms/step - loss: 3.8749 - categorical_accuracy: 0.7373 - val_loss: 3.6439 - val_categorical_accuracy: 0.8500\n",
      "Epoch 11/82\n",
      "1/1 [==============================] - 0s 133ms/step - loss: 3.6322 - categorical_accuracy: 0.7542 - val_loss: 3.4285 - val_categorical_accuracy: 0.7333\n",
      "Epoch 12/82\n",
      "1/1 [==============================] - 0s 175ms/step - loss: 3.4096 - categorical_accuracy: 0.7881 - val_loss: 3.2214 - val_categorical_accuracy: 0.8500\n",
      "Epoch 13/82\n",
      "1/1 [==============================] - 0s 155ms/step - loss: 3.1995 - categorical_accuracy: 0.8220 - val_loss: 3.0436 - val_categorical_accuracy: 0.8167\n",
      "Epoch 14/82\n",
      "1/1 [==============================] - 0s 125ms/step - loss: 3.0219 - categorical_accuracy: 0.8559 - val_loss: 2.8773 - val_categorical_accuracy: 0.7833\n",
      "Epoch 15/82\n",
      "1/1 [==============================] - 0s 282ms/step - loss: 2.8551 - categorical_accuracy: 0.7881 - val_loss: 2.7269 - val_categorical_accuracy: 0.8167\n",
      "Epoch 16/82\n",
      "1/1 [==============================] - 0s 245ms/step - loss: 2.7092 - categorical_accuracy: 0.7627 - val_loss: 2.5883 - val_categorical_accuracy: 0.8167\n",
      "Epoch 17/82\n",
      "1/1 [==============================] - 0s 223ms/step - loss: 2.5638 - categorical_accuracy: 0.8305 - val_loss: 2.4653 - val_categorical_accuracy: 0.8000\n",
      "Epoch 18/82\n",
      "1/1 [==============================] - 0s 149ms/step - loss: 2.4314 - categorical_accuracy: 0.8390 - val_loss: 2.3472 - val_categorical_accuracy: 0.8167\n",
      "Epoch 19/82\n",
      "1/1 [==============================] - 0s 288ms/step - loss: 2.3244 - categorical_accuracy: 0.7797 - val_loss: 2.2523 - val_categorical_accuracy: 0.8000\n",
      "Epoch 20/82\n",
      "1/1 [==============================] - 0s 204ms/step - loss: 2.2209 - categorical_accuracy: 0.8559 - val_loss: 2.1537 - val_categorical_accuracy: 0.8333\n",
      "Epoch 21/82\n",
      "1/1 [==============================] - 0s 480ms/step - loss: 2.1322 - categorical_accuracy: 0.8136 - val_loss: 2.0817 - val_categorical_accuracy: 0.8000\n",
      "Epoch 22/82\n",
      "1/1 [==============================] - 0s 222ms/step - loss: 2.0444 - categorical_accuracy: 0.8729 - val_loss: 2.0045 - val_categorical_accuracy: 0.7833\n",
      "Epoch 23/82\n",
      "1/1 [==============================] - 0s 271ms/step - loss: 1.9807 - categorical_accuracy: 0.8051 - val_loss: 1.9592 - val_categorical_accuracy: 0.8000\n",
      "Epoch 24/82\n",
      "1/1 [==============================] - 0s 164ms/step - loss: 1.9155 - categorical_accuracy: 0.8220 - val_loss: 1.8971 - val_categorical_accuracy: 0.8167\n",
      "Epoch 25/82\n",
      "1/1 [==============================] - 0s 253ms/step - loss: 1.8697 - categorical_accuracy: 0.8136 - val_loss: 1.8658 - val_categorical_accuracy: 0.8000\n",
      "Epoch 26/82\n",
      "1/1 [==============================] - 0s 191ms/step - loss: 1.8362 - categorical_accuracy: 0.8644 - val_loss: 1.8259 - val_categorical_accuracy: 0.8167\n",
      "Epoch 27/82\n",
      "1/1 [==============================] - 0s 153ms/step - loss: 1.7946 - categorical_accuracy: 0.8305 - val_loss: 1.8102 - val_categorical_accuracy: 0.8000\n",
      "Epoch 28/82\n",
      "1/1 [==============================] - 0s 297ms/step - loss: 1.7712 - categorical_accuracy: 0.8305 - val_loss: 1.7856 - val_categorical_accuracy: 0.8000\n",
      "Epoch 29/82\n",
      "1/1 [==============================] - 0s 173ms/step - loss: 1.7454 - categorical_accuracy: 0.8644 - val_loss: 1.7797 - val_categorical_accuracy: 0.8000\n",
      "Epoch 30/82\n",
      "1/1 [==============================] - ETA: 0s - loss: 1.7306 - categorical_accuracy: 0.82 - 0s 282ms/step - loss: 1.7306 - categorical_accuracy: 0.8220 - val_loss: 1.7583 - val_categorical_accuracy: 0.8167\n",
      "Epoch 31/82\n",
      "1/1 [==============================] - 0s 255ms/step - loss: 1.7121 - categorical_accuracy: 0.8898 - val_loss: 1.7552 - val_categorical_accuracy: 0.8000\n",
      "Epoch 32/82\n",
      "1/1 [==============================] - 0s 218ms/step - loss: 1.7179 - categorical_accuracy: 0.8136 - val_loss: 1.7328 - val_categorical_accuracy: 0.8167\n",
      "Epoch 33/82\n",
      "1/1 [==============================] - 0s 261ms/step - loss: 1.6977 - categorical_accuracy: 0.8305 - val_loss: 1.7268 - val_categorical_accuracy: 0.8000\n",
      "Epoch 34/82\n",
      "1/1 [==============================] - 0s 168ms/step - loss: 1.6564 - categorical_accuracy: 0.8898 - val_loss: 1.7083 - val_categorical_accuracy: 0.8167\n",
      "Epoch 35/82\n",
      "1/1 [==============================] - 0s 330ms/step - loss: 1.6532 - categorical_accuracy: 0.8559 - val_loss: 1.7001 - val_categorical_accuracy: 0.8167\n",
      "Epoch 36/82\n",
      "1/1 [==============================] - 0s 172ms/step - loss: 1.6592 - categorical_accuracy: 0.8814 - val_loss: 1.6855 - val_categorical_accuracy: 0.8000\n",
      "Epoch 37/82\n",
      "1/1 [==============================] - 0s 222ms/step - loss: 1.6439 - categorical_accuracy: 0.8814 - val_loss: 1.6785 - val_categorical_accuracy: 0.8000\n",
      "Epoch 38/82\n",
      "1/1 [==============================] - 0s 136ms/step - loss: 1.5956 - categorical_accuracy: 0.8983 - val_loss: 1.6618 - val_categorical_accuracy: 0.8167\n",
      "Epoch 39/82\n",
      "1/1 [==============================] - 0s 155ms/step - loss: 1.5739 - categorical_accuracy: 0.8729 - val_loss: 1.6538 - val_categorical_accuracy: 0.8167\n",
      "Epoch 40/82\n",
      "1/1 [==============================] - 0s 138ms/step - loss: 1.5728 - categorical_accuracy: 0.8814 - val_loss: 1.6443 - val_categorical_accuracy: 0.8000\n",
      "Epoch 41/82\n",
      "1/1 [==============================] - 0s 133ms/step - loss: 1.5527 - categorical_accuracy: 0.9322 - val_loss: 1.6287 - val_categorical_accuracy: 0.8167\n",
      "Epoch 42/82\n",
      "1/1 [==============================] - 0s 128ms/step - loss: 1.5457 - categorical_accuracy: 0.9068 - val_loss: 1.6196 - val_categorical_accuracy: 0.8167\n",
      "Epoch 43/82\n",
      "1/1 [==============================] - 0s 134ms/step - loss: 1.5450 - categorical_accuracy: 0.8898 - val_loss: 1.6121 - val_categorical_accuracy: 0.8167\n",
      "Epoch 44/82\n",
      "1/1 [==============================] - 0s 123ms/step - loss: 1.5332 - categorical_accuracy: 0.8983 - val_loss: 1.5954 - val_categorical_accuracy: 0.8167\n",
      "Epoch 45/82\n",
      "1/1 [==============================] - 1s 522ms/step - loss: 1.5286 - categorical_accuracy: 0.8983 - val_loss: 1.5885 - val_categorical_accuracy: 0.8167\n",
      "Epoch 46/82\n",
      "1/1 [==============================] - 0s 470ms/step - loss: 1.4868 - categorical_accuracy: 0.9237 - val_loss: 1.5838 - val_categorical_accuracy: 0.8000\n",
      "Epoch 47/82\n",
      "1/1 [==============================] - 0s 362ms/step - loss: 1.4889 - categorical_accuracy: 0.8983 - val_loss: 1.5675 - val_categorical_accuracy: 0.8167\n",
      "Epoch 48/82\n",
      "1/1 [==============================] - 0s 173ms/step - loss: 1.4792 - categorical_accuracy: 0.8644 - val_loss: 1.5641 - val_categorical_accuracy: 0.8167\n",
      "Epoch 49/82\n",
      "1/1 [==============================] - 0s 191ms/step - loss: 1.4440 - categorical_accuracy: 0.9407 - val_loss: 1.5462 - val_categorical_accuracy: 0.8167\n",
      "Epoch 50/82\n"
     ]
    },
    {
     "name": "stdout",
     "output_type": "stream",
     "text": [
      "1/1 [==============================] - 0s 326ms/step - loss: 1.4598 - categorical_accuracy: 0.9237 - val_loss: 1.5500 - val_categorical_accuracy: 0.8000\n",
      "Epoch 51/82\n",
      "1/1 [==============================] - 0s 161ms/step - loss: 1.4270 - categorical_accuracy: 0.9237 - val_loss: 1.5258 - val_categorical_accuracy: 0.8167\n",
      "Epoch 52/82\n",
      "1/1 [==============================] - 0s 167ms/step - loss: 1.4254 - categorical_accuracy: 0.9576 - val_loss: 1.5206 - val_categorical_accuracy: 0.8167\n",
      "Epoch 53/82\n",
      "1/1 [==============================] - 0s 174ms/step - loss: 1.4054 - categorical_accuracy: 0.9237 - val_loss: 1.5139 - val_categorical_accuracy: 0.8333\n",
      "Epoch 54/82\n",
      "1/1 [==============================] - 0s 157ms/step - loss: 1.4175 - categorical_accuracy: 0.9153 - val_loss: 1.5077 - val_categorical_accuracy: 0.8000\n",
      "Epoch 55/82\n",
      "1/1 [==============================] - 0s 160ms/step - loss: 1.4132 - categorical_accuracy: 0.9068 - val_loss: 1.4977 - val_categorical_accuracy: 0.8167\n",
      "Epoch 56/82\n",
      "1/1 [==============================] - 0s 145ms/step - loss: 1.3922 - categorical_accuracy: 0.9237 - val_loss: 1.4893 - val_categorical_accuracy: 0.8333\n",
      "Epoch 57/82\n",
      "1/1 [==============================] - 0s 145ms/step - loss: 1.3787 - categorical_accuracy: 0.9237 - val_loss: 1.4809 - val_categorical_accuracy: 0.8167\n",
      "Epoch 58/82\n",
      "1/1 [==============================] - 0s 168ms/step - loss: 1.3902 - categorical_accuracy: 0.9237 - val_loss: 1.4863 - val_categorical_accuracy: 0.7833\n",
      "Epoch 59/82\n",
      "1/1 [==============================] - 0s 153ms/step - loss: 1.3729 - categorical_accuracy: 0.8983 - val_loss: 1.4618 - val_categorical_accuracy: 0.8167\n",
      "Epoch 60/82\n",
      "1/1 [==============================] - 0s 150ms/step - loss: 1.3241 - categorical_accuracy: 0.9661 - val_loss: 1.4683 - val_categorical_accuracy: 0.8167\n",
      "Epoch 61/82\n",
      "1/1 [==============================] - 0s 176ms/step - loss: 1.3317 - categorical_accuracy: 0.9661 - val_loss: 1.4507 - val_categorical_accuracy: 0.8167\n",
      "Epoch 62/82\n",
      "1/1 [==============================] - 0s 185ms/step - loss: 1.3022 - categorical_accuracy: 0.9746 - val_loss: 1.4472 - val_categorical_accuracy: 0.8000\n",
      "Epoch 63/82\n",
      "1/1 [==============================] - 0s 151ms/step - loss: 1.3064 - categorical_accuracy: 0.9492 - val_loss: 1.4342 - val_categorical_accuracy: 0.8167\n",
      "Epoch 64/82\n",
      "1/1 [==============================] - 0s 151ms/step - loss: 1.2972 - categorical_accuracy: 0.9746 - val_loss: 1.4245 - val_categorical_accuracy: 0.8167\n",
      "Epoch 65/82\n",
      "1/1 [==============================] - 0s 161ms/step - loss: 1.3029 - categorical_accuracy: 0.9661 - val_loss: 1.4348 - val_categorical_accuracy: 0.8167\n",
      "Epoch 66/82\n",
      "1/1 [==============================] - 0s 148ms/step - loss: 1.3171 - categorical_accuracy: 0.9407 - val_loss: 1.4101 - val_categorical_accuracy: 0.8167\n",
      "Epoch 67/82\n",
      "1/1 [==============================] - 0s 155ms/step - loss: 1.2793 - categorical_accuracy: 0.9492 - val_loss: 1.4274 - val_categorical_accuracy: 0.8500\n",
      "Epoch 68/82\n",
      "1/1 [==============================] - 0s 162ms/step - loss: 1.2931 - categorical_accuracy: 0.9576 - val_loss: 1.4080 - val_categorical_accuracy: 0.8333\n",
      "Epoch 69/82\n",
      "1/1 [==============================] - 0s 187ms/step - loss: 1.2650 - categorical_accuracy: 0.9661 - val_loss: 1.4053 - val_categorical_accuracy: 0.8167\n",
      "Epoch 70/82\n",
      "1/1 [==============================] - 0s 176ms/step - loss: 1.2688 - categorical_accuracy: 0.9661 - val_loss: 1.3979 - val_categorical_accuracy: 0.8167\n",
      "Epoch 71/82\n",
      "1/1 [==============================] - 0s 154ms/step - loss: 1.2448 - categorical_accuracy: 0.9576 - val_loss: 1.3913 - val_categorical_accuracy: 0.8167\n",
      "Epoch 72/82\n",
      "1/1 [==============================] - 0s 150ms/step - loss: 1.2170 - categorical_accuracy: 0.9831 - val_loss: 1.3855 - val_categorical_accuracy: 0.8333\n",
      "Epoch 73/82\n",
      "1/1 [==============================] - 0s 160ms/step - loss: 1.2258 - categorical_accuracy: 0.9407 - val_loss: 1.3856 - val_categorical_accuracy: 0.8167\n",
      "Epoch 74/82\n",
      "1/1 [==============================] - 0s 146ms/step - loss: 1.2153 - categorical_accuracy: 0.9492 - val_loss: 1.3772 - val_categorical_accuracy: 0.8500\n",
      "Epoch 75/82\n",
      "1/1 [==============================] - 0s 151ms/step - loss: 1.1917 - categorical_accuracy: 0.9831 - val_loss: 1.3695 - val_categorical_accuracy: 0.8167\n",
      "Epoch 76/82\n",
      "1/1 [==============================] - 0s 159ms/step - loss: 1.2242 - categorical_accuracy: 0.9746 - val_loss: 1.3601 - val_categorical_accuracy: 0.8500\n",
      "Epoch 77/82\n",
      "1/1 [==============================] - 0s 161ms/step - loss: 1.1849 - categorical_accuracy: 0.9831 - val_loss: 1.3595 - val_categorical_accuracy: 0.8333\n",
      "Epoch 78/82\n",
      "1/1 [==============================] - 0s 155ms/step - loss: 1.1960 - categorical_accuracy: 0.9746 - val_loss: 1.3598 - val_categorical_accuracy: 0.8333\n",
      "Epoch 79/82\n",
      "1/1 [==============================] - 0s 152ms/step - loss: 1.1954 - categorical_accuracy: 0.9576 - val_loss: 1.3511 - val_categorical_accuracy: 0.8500\n",
      "Epoch 80/82\n",
      "1/1 [==============================] - 0s 151ms/step - loss: 1.1810 - categorical_accuracy: 0.9831 - val_loss: 1.3508 - val_categorical_accuracy: 0.8000\n",
      "Epoch 81/82\n",
      "1/1 [==============================] - 0s 168ms/step - loss: 1.1741 - categorical_accuracy: 0.9492 - val_loss: 1.3422 - val_categorical_accuracy: 0.8500\n",
      "Epoch 82/82\n",
      "1/1 [==============================] - 0s 138ms/step - loss: 1.1598 - categorical_accuracy: 0.9746 - val_loss: 1.3401 - val_categorical_accuracy: 0.8333\n"
     ]
    },
    {
     "data": {
      "text/plain": [
       "<tensorflow.python.keras.callbacks.History at 0x22465e0f9d0>"
      ]
     },
     "execution_count": 132,
     "metadata": {},
     "output_type": "execute_result"
    }
   ],
   "source": [
    "model.fit(train_data, \n",
    "          train_targets, \n",
    "          epochs = 82, \n",
    "          batch_size = 256, \n",
    "          validation_data = (test_data, test_targets))"
   ]
  },
  {
   "cell_type": "code",
   "execution_count": 133,
   "id": "a02d9ec2",
   "metadata": {},
   "outputs": [
    {
     "name": "stdout",
     "output_type": "stream",
     "text": [
      "2/2 [==============================] - 0s 12ms/step - loss: 1.3401 - categorical_accuracy: 0.8333\n"
     ]
    }
   ],
   "source": [
    "results = model.evaluate(test_data, test_targets)"
   ]
  },
  {
   "cell_type": "code",
   "execution_count": 134,
   "id": "87087d93",
   "metadata": {},
   "outputs": [
    {
     "name": "stdout",
     "output_type": "stream",
     "text": [
      "Accuracy: 0.8333333134651184\n"
     ]
    }
   ],
   "source": [
    "print(\"Accuracy: {}\".format(results[1]))"
   ]
  },
  {
   "cell_type": "code",
   "execution_count": null,
   "id": "2ec4139f",
   "metadata": {},
   "outputs": [],
   "source": []
  }
 ],
 "metadata": {
  "kernelspec": {
   "display_name": "Python 3",
   "language": "python",
   "name": "python3"
  },
  "language_info": {
   "codemirror_mode": {
    "name": "ipython",
    "version": 3
   },
   "file_extension": ".py",
   "mimetype": "text/x-python",
   "name": "python",
   "nbconvert_exporter": "python",
   "pygments_lexer": "ipython3",
   "version": "3.8.10"
  }
 },
 "nbformat": 4,
 "nbformat_minor": 5
}

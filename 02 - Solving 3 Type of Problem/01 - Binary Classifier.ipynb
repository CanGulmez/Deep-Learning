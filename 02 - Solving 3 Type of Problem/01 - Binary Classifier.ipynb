{
 "cells": [
  {
   "cell_type": "markdown",
   "id": "a0fc7cb8",
   "metadata": {},
   "source": [
    "# Binary classifier\n",
    "\n",
    "Predict the sentiment of IMDB reviews (negative or positive)"
   ]
  },
  {
   "cell_type": "code",
   "execution_count": 22,
   "id": "de404b6f",
   "metadata": {},
   "outputs": [],
   "source": [
    "import numpy as np \n",
    "import pandas as pd\n",
    "import matplotlib.pyplot as plt \n",
    "import tensorflow as tf\n",
    "\n",
    "from tensorflow.keras import models, layers, optimizers, losses, metrics\n",
    "from tensorflow.keras.datasets import imdb"
   ]
  },
  {
   "cell_type": "code",
   "execution_count": 3,
   "id": "68b43e36",
   "metadata": {},
   "outputs": [],
   "source": [
    "LIMIT_WORD = 10000"
   ]
  },
  {
   "cell_type": "code",
   "execution_count": 4,
   "id": "33a78f1a",
   "metadata": {},
   "outputs": [
    {
     "name": "stderr",
     "output_type": "stream",
     "text": [
      "<__array_function__ internals>:5: VisibleDeprecationWarning: Creating an ndarray from ragged nested sequences (which is a list-or-tuple of lists-or-tuples-or ndarrays with different lengths or shapes) is deprecated. If you meant to do this, you must specify 'dtype=object' when creating the ndarray.\n",
      "C:\\Users\\90545\\AppData\\Roaming\\Python\\Python38\\site-packages\\tensorflow\\python\\keras\\datasets\\imdb.py:159: VisibleDeprecationWarning: Creating an ndarray from ragged nested sequences (which is a list-or-tuple of lists-or-tuples-or ndarrays with different lengths or shapes) is deprecated. If you meant to do this, you must specify 'dtype=object' when creating the ndarray.\n",
      "  x_train, y_train = np.array(xs[:idx]), np.array(labels[:idx])\n",
      "C:\\Users\\90545\\AppData\\Roaming\\Python\\Python38\\site-packages\\tensorflow\\python\\keras\\datasets\\imdb.py:160: VisibleDeprecationWarning: Creating an ndarray from ragged nested sequences (which is a list-or-tuple of lists-or-tuples-or ndarrays with different lengths or shapes) is deprecated. If you meant to do this, you must specify 'dtype=object' when creating the ndarray.\n",
      "  x_test, y_test = np.array(xs[idx:]), np.array(labels[idx:])\n"
     ]
    }
   ],
   "source": [
    "(train_data, train_labels), (test_data, test_labels) = imdb.load_data(num_words = LIMIT_WORD)"
   ]
  },
  {
   "cell_type": "code",
   "execution_count": 5,
   "id": "2ec9fd6d",
   "metadata": {},
   "outputs": [
    {
     "data": {
      "text/plain": [
       "array([1, 0, 0, ..., 0, 1, 0], dtype=int64)"
      ]
     },
     "execution_count": 5,
     "metadata": {},
     "output_type": "execute_result"
    }
   ],
   "source": [
    "train_labels"
   ]
  },
  {
   "cell_type": "code",
   "execution_count": 6,
   "id": "f0d1867e",
   "metadata": {},
   "outputs": [
    {
     "data": {
      "text/plain": [
       "array([list([1, 14, 22, 16, 43, 530, 973, 1622, 1385, 65, 458, 4468, 66, 3941, 4, 173, 36, 256, 5, 25, 100, 43, 838, 112, 50, 670, 2, 9, 35, 480, 284, 5, 150, 4, 172, 112, 167, 2, 336, 385, 39, 4, 172, 4536, 1111, 17, 546, 38, 13, 447, 4, 192, 50, 16, 6, 147, 2025, 19, 14, 22, 4, 1920, 4613, 469, 4, 22, 71, 87, 12, 16, 43, 530, 38, 76, 15, 13, 1247, 4, 22, 17, 515, 17, 12, 16, 626, 18, 2, 5, 62, 386, 12, 8, 316, 8, 106, 5, 4, 2223, 5244, 16, 480, 66, 3785, 33, 4, 130, 12, 16, 38, 619, 5, 25, 124, 51, 36, 135, 48, 25, 1415, 33, 6, 22, 12, 215, 28, 77, 52, 5, 14, 407, 16, 82, 2, 8, 4, 107, 117, 5952, 15, 256, 4, 2, 7, 3766, 5, 723, 36, 71, 43, 530, 476, 26, 400, 317, 46, 7, 4, 2, 1029, 13, 104, 88, 4, 381, 15, 297, 98, 32, 2071, 56, 26, 141, 6, 194, 7486, 18, 4, 226, 22, 21, 134, 476, 26, 480, 5, 144, 30, 5535, 18, 51, 36, 28, 224, 92, 25, 104, 4, 226, 65, 16, 38, 1334, 88, 12, 16, 283, 5, 16, 4472, 113, 103, 32, 15, 16, 5345, 19, 178, 32]),\n",
       "       list([1, 194, 1153, 194, 8255, 78, 228, 5, 6, 1463, 4369, 5012, 134, 26, 4, 715, 8, 118, 1634, 14, 394, 20, 13, 119, 954, 189, 102, 5, 207, 110, 3103, 21, 14, 69, 188, 8, 30, 23, 7, 4, 249, 126, 93, 4, 114, 9, 2300, 1523, 5, 647, 4, 116, 9, 35, 8163, 4, 229, 9, 340, 1322, 4, 118, 9, 4, 130, 4901, 19, 4, 1002, 5, 89, 29, 952, 46, 37, 4, 455, 9, 45, 43, 38, 1543, 1905, 398, 4, 1649, 26, 6853, 5, 163, 11, 3215, 2, 4, 1153, 9, 194, 775, 7, 8255, 2, 349, 2637, 148, 605, 2, 8003, 15, 123, 125, 68, 2, 6853, 15, 349, 165, 4362, 98, 5, 4, 228, 9, 43, 2, 1157, 15, 299, 120, 5, 120, 174, 11, 220, 175, 136, 50, 9, 4373, 228, 8255, 5, 2, 656, 245, 2350, 5, 4, 9837, 131, 152, 491, 18, 2, 32, 7464, 1212, 14, 9, 6, 371, 78, 22, 625, 64, 1382, 9, 8, 168, 145, 23, 4, 1690, 15, 16, 4, 1355, 5, 28, 6, 52, 154, 462, 33, 89, 78, 285, 16, 145, 95]),\n",
       "       list([1, 14, 47, 8, 30, 31, 7, 4, 249, 108, 7, 4, 5974, 54, 61, 369, 13, 71, 149, 14, 22, 112, 4, 2401, 311, 12, 16, 3711, 33, 75, 43, 1829, 296, 4, 86, 320, 35, 534, 19, 263, 4821, 1301, 4, 1873, 33, 89, 78, 12, 66, 16, 4, 360, 7, 4, 58, 316, 334, 11, 4, 1716, 43, 645, 662, 8, 257, 85, 1200, 42, 1228, 2578, 83, 68, 3912, 15, 36, 165, 1539, 278, 36, 69, 2, 780, 8, 106, 14, 6905, 1338, 18, 6, 22, 12, 215, 28, 610, 40, 6, 87, 326, 23, 2300, 21, 23, 22, 12, 272, 40, 57, 31, 11, 4, 22, 47, 6, 2307, 51, 9, 170, 23, 595, 116, 595, 1352, 13, 191, 79, 638, 89, 2, 14, 9, 8, 106, 607, 624, 35, 534, 6, 227, 7, 129, 113]),\n",
       "       ...,\n",
       "       list([1, 11, 6, 230, 245, 6401, 9, 6, 1225, 446, 2, 45, 2174, 84, 8322, 4007, 21, 4, 912, 84, 2, 325, 725, 134, 2, 1715, 84, 5, 36, 28, 57, 1099, 21, 8, 140, 8, 703, 5, 2, 84, 56, 18, 1644, 14, 9, 31, 7, 4, 9406, 1209, 2295, 2, 1008, 18, 6, 20, 207, 110, 563, 12, 8, 2901, 2, 8, 97, 6, 20, 53, 4767, 74, 4, 460, 364, 1273, 29, 270, 11, 960, 108, 45, 40, 29, 2961, 395, 11, 6, 4065, 500, 7, 2, 89, 364, 70, 29, 140, 4, 64, 4780, 11, 4, 2678, 26, 178, 4, 529, 443, 2, 5, 27, 710, 117, 2, 8123, 165, 47, 84, 37, 131, 818, 14, 595, 10, 10, 61, 1242, 1209, 10, 10, 288, 2260, 1702, 34, 2901, 2, 4, 65, 496, 4, 231, 7, 790, 5, 6, 320, 234, 2766, 234, 1119, 1574, 7, 496, 4, 139, 929, 2901, 2, 7750, 5, 4241, 18, 4, 8497, 2, 250, 11, 1818, 7561, 4, 4217, 5408, 747, 1115, 372, 1890, 1006, 541, 9303, 7, 4, 59, 2, 4, 3586, 2]),\n",
       "       list([1, 1446, 7079, 69, 72, 3305, 13, 610, 930, 8, 12, 582, 23, 5, 16, 484, 685, 54, 349, 11, 4120, 2959, 45, 58, 1466, 13, 197, 12, 16, 43, 23, 2, 5, 62, 30, 145, 402, 11, 4131, 51, 575, 32, 61, 369, 71, 66, 770, 12, 1054, 75, 100, 2198, 8, 4, 105, 37, 69, 147, 712, 75, 3543, 44, 257, 390, 5, 69, 263, 514, 105, 50, 286, 1814, 23, 4, 123, 13, 161, 40, 5, 421, 4, 116, 16, 897, 13, 2, 40, 319, 5872, 112, 6700, 11, 4803, 121, 25, 70, 3468, 4, 719, 3798, 13, 18, 31, 62, 40, 8, 7200, 4, 2, 7, 14, 123, 5, 942, 25, 8, 721, 12, 145, 5, 202, 12, 160, 580, 202, 12, 6, 52, 58, 2, 92, 401, 728, 12, 39, 14, 251, 8, 15, 251, 5, 2, 12, 38, 84, 80, 124, 12, 9, 23]),\n",
       "       list([1, 17, 6, 194, 337, 7, 4, 204, 22, 45, 254, 8, 106, 14, 123, 4, 2, 270, 2, 5, 2, 2, 732, 2098, 101, 405, 39, 14, 1034, 4, 1310, 9, 115, 50, 305, 12, 47, 4, 168, 5, 235, 7, 38, 111, 699, 102, 7, 4, 4039, 9245, 9, 24, 6, 78, 1099, 17, 2345, 2, 21, 27, 9685, 6139, 5, 2, 1603, 92, 1183, 4, 1310, 7, 4, 204, 42, 97, 90, 35, 221, 109, 29, 127, 27, 118, 8, 97, 12, 157, 21, 6789, 2, 9, 6, 66, 78, 1099, 4, 631, 1191, 5, 2642, 272, 191, 1070, 6, 7585, 8, 2197, 2, 2, 544, 5, 383, 1271, 848, 1468, 2, 497, 2, 8, 1597, 8778, 2, 21, 60, 27, 239, 9, 43, 8368, 209, 405, 10, 10, 12, 764, 40, 4, 248, 20, 12, 16, 5, 174, 1791, 72, 7, 51, 6, 1739, 22, 4, 204, 131, 9])],\n",
       "      dtype=object)"
      ]
     },
     "execution_count": 6,
     "metadata": {},
     "output_type": "execute_result"
    }
   ],
   "source": [
    "train_data"
   ]
  },
  {
   "cell_type": "code",
   "execution_count": 7,
   "id": "fabbe466",
   "metadata": {},
   "outputs": [
    {
     "data": {
      "text/plain": [
       "(25000,)"
      ]
     },
     "execution_count": 7,
     "metadata": {},
     "output_type": "execute_result"
    }
   ],
   "source": [
    "train_data.shape"
   ]
  },
  {
   "cell_type": "markdown",
   "id": "4e512814",
   "metadata": {},
   "source": [
    "### Data exploring (convert sequences to original review)"
   ]
  },
  {
   "cell_type": "code",
   "execution_count": 8,
   "id": "a7490637",
   "metadata": {},
   "outputs": [],
   "source": [
    "def convert_to_english(sequence):\n",
    "    \n",
    "    word_index = imdb.get_word_index()\n",
    "    reverse_word_index = dict([(value, key) for (key, value) in word_index.items()])\n",
    "    decoded_review = \" \".join([reverse_word_index.get(i - 3, \"?\") for i in sequence])\n",
    "    \n",
    "    return decoded_review"
   ]
  },
  {
   "cell_type": "code",
   "execution_count": 9,
   "id": "a1f00c1d",
   "metadata": {},
   "outputs": [
    {
     "name": "stdout",
     "output_type": "stream",
     "text": [
      "? begins better than it ends funny that the russian submarine crew ? all other actors it's like those scenes where documentary shots br br spoiler part the message ? was contrary to the whole story it just does not ? br br\n"
     ]
    }
   ],
   "source": [
    "print(convert_to_english(train_data[5]))"
   ]
  },
  {
   "cell_type": "markdown",
   "id": "7f0bac3a",
   "metadata": {},
   "source": [
    "### Prepare the data (convert sequences into tensors)"
   ]
  },
  {
   "cell_type": "code",
   "execution_count": 10,
   "id": "ea85d3e1",
   "metadata": {},
   "outputs": [],
   "source": [
    "def vectorize_sequences(sequences, dimension = LIMIT_WORD):\n",
    "    \n",
    "    result = np.zeros((len(sequences), dimension))\n",
    "    \n",
    "    for i, sequence in enumerate(sequences):\n",
    "        result[i, sequence] = 1\n",
    "        \n",
    "    return result"
   ]
  },
  {
   "cell_type": "markdown",
   "id": "a384e91a",
   "metadata": {},
   "source": [
    "#### Vectorize examples"
   ]
  },
  {
   "cell_type": "code",
   "execution_count": 11,
   "id": "4c53a0e9",
   "metadata": {},
   "outputs": [],
   "source": [
    "x_train = vectorize_sequences(train_data)\n",
    "x_test = vectorize_sequences(test_data)"
   ]
  },
  {
   "cell_type": "code",
   "execution_count": 12,
   "id": "78f78b16",
   "metadata": {},
   "outputs": [
    {
     "data": {
      "text/plain": [
       "array([[0., 1., 1., ..., 0., 0., 0.],\n",
       "       [0., 1., 1., ..., 0., 0., 0.],\n",
       "       [0., 1., 1., ..., 0., 0., 0.],\n",
       "       ...,\n",
       "       [0., 1., 1., ..., 0., 0., 0.],\n",
       "       [0., 1., 1., ..., 0., 0., 0.],\n",
       "       [0., 1., 1., ..., 0., 0., 0.]])"
      ]
     },
     "execution_count": 12,
     "metadata": {},
     "output_type": "execute_result"
    }
   ],
   "source": [
    "x_train[:10]"
   ]
  },
  {
   "cell_type": "markdown",
   "id": "99332b25",
   "metadata": {},
   "source": [
    "#### Vectorize labels"
   ]
  },
  {
   "cell_type": "code",
   "execution_count": 13,
   "id": "01567b4a",
   "metadata": {},
   "outputs": [],
   "source": [
    "y_train = np.asarray(train_labels).astype(\"float32\")\n",
    "y_test = np.asarray(test_labels).astype(\"float32\")"
   ]
  },
  {
   "cell_type": "code",
   "execution_count": 14,
   "id": "0cce2791",
   "metadata": {},
   "outputs": [
    {
     "data": {
      "text/plain": [
       "array([1., 0., 0., 1., 0.], dtype=float32)"
      ]
     },
     "execution_count": 14,
     "metadata": {},
     "output_type": "execute_result"
    }
   ],
   "source": [
    "y_train[:5]"
   ]
  },
  {
   "cell_type": "markdown",
   "id": "95264d2d",
   "metadata": {},
   "source": [
    "### Building the network\n",
    "\n",
    "#### Architecture\n",
    "\n",
    "- 2 intermediate Dense layers with 16 hidden unites per each (relu actovation function)\n",
    "- 1 output layer (with sigmoid activation function)"
   ]
  },
  {
   "cell_type": "code",
   "execution_count": 15,
   "id": "81fdb6af",
   "metadata": {},
   "outputs": [],
   "source": [
    "model = models.Sequential()"
   ]
  },
  {
   "cell_type": "code",
   "execution_count": 16,
   "id": "7c4f9b5b",
   "metadata": {},
   "outputs": [],
   "source": [
    "model.add(layers.Dense(16, activation = \"relu\", input_shape = (LIMIT_WORD, )))\n",
    "model.add(layers.Dense(16, activation = \"relu\"))\n",
    "model.add(layers.Dense(1, activation = \"sigmoid\"))"
   ]
  },
  {
   "cell_type": "code",
   "execution_count": 17,
   "id": "9f97fe79",
   "metadata": {},
   "outputs": [],
   "source": [
    "model.compile(optimizer = optimizers.RMSprop(lr = 0.001),\n",
    "             loss = losses.binary_crossentropy,\n",
    "             metrics = [metrics.binary_accuracy])"
   ]
  },
  {
   "cell_type": "code",
   "execution_count": 20,
   "id": "bd6ccf41",
   "metadata": {},
   "outputs": [
    {
     "data": {
      "text/plain": [
       "(25000, 10000)"
      ]
     },
     "execution_count": 20,
     "metadata": {},
     "output_type": "execute_result"
    }
   ],
   "source": [
    "x_train.shape"
   ]
  },
  {
   "cell_type": "code",
   "execution_count": 18,
   "id": "f489c1f7",
   "metadata": {},
   "outputs": [],
   "source": [
    "x_val = x_train[:10000]\n",
    "partial_x_train = x_train[10000:]\n",
    "y_val = y_train[:10000]\n",
    "partial_y_train = y_train[10000:]"
   ]
  },
  {
   "cell_type": "code",
   "execution_count": 19,
   "id": "3b18b85c",
   "metadata": {},
   "outputs": [
    {
     "name": "stdout",
     "output_type": "stream",
     "text": [
      "Epoch 1/20\n",
      "30/30 [==============================] - 48s 1s/step - loss: 0.6256 - binary_accuracy: 0.6646 - val_loss: 0.4348 - val_binary_accuracy: 0.8473\n",
      "Epoch 2/20\n",
      "30/30 [==============================] - 2s 81ms/step - loss: 0.3688 - binary_accuracy: 0.8918 - val_loss: 0.3443 - val_binary_accuracy: 0.8663\n",
      "Epoch 3/20\n",
      "30/30 [==============================] - 2s 73ms/step - loss: 0.2504 - binary_accuracy: 0.9292 - val_loss: 0.2864 - val_binary_accuracy: 0.8893\n",
      "Epoch 4/20\n",
      "30/30 [==============================] - 2s 65ms/step - loss: 0.1936 - binary_accuracy: 0.9394 - val_loss: 0.2929 - val_binary_accuracy: 0.8826\n",
      "Epoch 5/20\n",
      "30/30 [==============================] - 2s 67ms/step - loss: 0.1561 - binary_accuracy: 0.9522 - val_loss: 0.2768 - val_binary_accuracy: 0.8875\n",
      "Epoch 6/20\n",
      "30/30 [==============================] - 2s 71ms/step - loss: 0.1209 - binary_accuracy: 0.9650 - val_loss: 0.2863 - val_binary_accuracy: 0.8847\n",
      "Epoch 7/20\n",
      "30/30 [==============================] - 2s 67ms/step - loss: 0.1056 - binary_accuracy: 0.9706 - val_loss: 0.3040 - val_binary_accuracy: 0.8817\n",
      "Epoch 8/20\n",
      "30/30 [==============================] - 2s 72ms/step - loss: 0.0879 - binary_accuracy: 0.9758 - val_loss: 0.3165 - val_binary_accuracy: 0.8806\n",
      "Epoch 9/20\n",
      "30/30 [==============================] - 2s 81ms/step - loss: 0.0696 - binary_accuracy: 0.9830 - val_loss: 0.3761 - val_binary_accuracy: 0.8760\n",
      "Epoch 10/20\n",
      "30/30 [==============================] - 3s 85ms/step - loss: 0.0576 - binary_accuracy: 0.9865 - val_loss: 0.3637 - val_binary_accuracy: 0.8768\n",
      "Epoch 11/20\n",
      "30/30 [==============================] - 2s 83ms/step - loss: 0.0431 - binary_accuracy: 0.9914 - val_loss: 0.3927 - val_binary_accuracy: 0.8778\n",
      "Epoch 12/20\n",
      "30/30 [==============================] - 2s 62ms/step - loss: 0.0345 - binary_accuracy: 0.9937 - val_loss: 0.4171 - val_binary_accuracy: 0.8737\n",
      "Epoch 13/20\n",
      "30/30 [==============================] - 2s 66ms/step - loss: 0.0287 - binary_accuracy: 0.9940 - val_loss: 0.4461 - val_binary_accuracy: 0.8711\n",
      "Epoch 14/20\n",
      "30/30 [==============================] - 2s 69ms/step - loss: 0.0195 - binary_accuracy: 0.9971 - val_loss: 0.4809 - val_binary_accuracy: 0.8693\n",
      "Epoch 15/20\n",
      "30/30 [==============================] - 2s 73ms/step - loss: 0.0156 - binary_accuracy: 0.9980 - val_loss: 0.5110 - val_binary_accuracy: 0.8711\n",
      "Epoch 16/20\n",
      "30/30 [==============================] - 3s 97ms/step - loss: 0.0108 - binary_accuracy: 0.9990 - val_loss: 0.5418 - val_binary_accuracy: 0.8706\n",
      "Epoch 17/20\n",
      "30/30 [==============================] - 3s 103ms/step - loss: 0.0081 - binary_accuracy: 0.9997 - val_loss: 0.5814 - val_binary_accuracy: 0.8693\n",
      "Epoch 18/20\n",
      "30/30 [==============================] - 3s 97ms/step - loss: 0.0078 - binary_accuracy: 0.9994 - val_loss: 0.6209 - val_binary_accuracy: 0.8685\n",
      "Epoch 19/20\n",
      "30/30 [==============================] - 2s 80ms/step - loss: 0.0045 - binary_accuracy: 0.9998 - val_loss: 0.6608 - val_binary_accuracy: 0.8687\n",
      "Epoch 20/20\n",
      "30/30 [==============================] - 2s 64ms/step - loss: 0.0032 - binary_accuracy: 1.0000 - val_loss: 0.6833 - val_binary_accuracy: 0.8660\n"
     ]
    }
   ],
   "source": [
    "history = model.fit(partial_x_train, \n",
    "                    partial_y_train, \n",
    "                    epochs = 20, \n",
    "                    batch_size = 512, \n",
    "                    validation_data = (x_val, y_val))"
   ]
  },
  {
   "cell_type": "markdown",
   "id": "73817a57",
   "metadata": {},
   "source": [
    "### Plot results\n",
    "\n",
    "#### Training and validation loss"
   ]
  },
  {
   "cell_type": "code",
   "execution_count": 26,
   "id": "adf9e1a4",
   "metadata": {},
   "outputs": [
    {
     "data": {
      "text/plain": [
       "Text(0, 0.5, 'Loss')"
      ]
     },
     "execution_count": 26,
     "metadata": {},
     "output_type": "execute_result"
    },
    {
     "data": {
      "image/png": "[encoded data removed]",
      "text/plain": [
       "<Figure size 432x288 with 1 Axes>"
      ]
     },
     "metadata": {
      "needs_background": "light"
     },
     "output_type": "display_data"
    }
   ],
   "source": [
    "history_dict = history.history\n",
    "loss_values = history_dict[\"loss\"]\n",
    "val_loss_values = history_dict[\"val_loss\"]\n",
    "\n",
    "acc = history_dict[\"binary_accuracy\"]\n",
    "epochs = range(1, len(acc) + 1)\n",
    "\n",
    "plt.plot(epochs, loss_values, \"bo\", label = \"Traning Loss\")\n",
    "plt.plot(epochs, val_loss_values, \"b\", label = \"Validation Loss\")\n",
    "plt.legend()\n",
    "plt.title(\"Training and Validation Loss\")\n",
    "plt.xlabel(\"Epochs\")\n",
    "plt.ylabel(\"Loss\")"
   ]
  },
  {
   "cell_type": "code",
   "execution_count": 27,
   "id": "97b4dee4",
   "metadata": {},
   "outputs": [
    {
     "data": {
      "text/plain": [
       "Text(0, 0.5, 'Accuracy')"
      ]
     },
     "execution_count": 27,
     "metadata": {},
     "output_type": "execute_result"
    },
    {
     "data": {
      "image/png": "[encoded data removed]",
      "text/plain": [
       "<Figure size 432x288 with 1 Axes>"
      ]
     },
     "metadata": {
      "needs_background": "light"
     },
     "output_type": "display_data"
    }
   ],
   "source": [
    "history_dict = history.history\n",
    "acc_values = history_dict[\"binary_accuracy\"]\n",
    "val_acc_values = history_dict[\"val_binary_accuracy\"]\n",
    "\n",
    "acc = history_dict[\"binary_accuracy\"]\n",
    "epochs = range(1, len(acc) + 1)\n",
    "\n",
    "plt.plot(epochs, acc_values, \"bo\", label = \"Traning Accuracy\")\n",
    "plt.plot(epochs, val_acc_values, \"b\", label = \"Validation Accuracy\")\n",
    "plt.legend()\n",
    "plt.title(\"Training and Validation Accuracy\")\n",
    "plt.xlabel(\"Epochs\")\n",
    "plt.ylabel(\"Accuracy\")"
   ]
  },
  {
   "cell_type": "markdown",
   "id": "87d4f812",
   "metadata": {},
   "source": [
    "Displayed above we have an example of **overfitting**. To prevent it, in this case could be sufficient to train the network for 4 epochs only"
   ]
  },
  {
   "cell_type": "code",
   "execution_count": 52,
   "id": "d31731a0",
   "metadata": {},
   "outputs": [],
   "source": [
    "model = models.Sequential()"
   ]
  },
  {
   "cell_type": "code",
   "execution_count": 53,
   "id": "3eebd54a",
   "metadata": {},
   "outputs": [],
   "source": [
    "model.add(layers.Dense(16, activation = \"relu\", input_shape = (LIMIT_WORD, )))\n",
    "model.add(layers.Dense(16, activation = \"relu\"))\n",
    "model.add(layers.Dense(1, activation = \"sigmoid\"))"
   ]
  },
  {
   "cell_type": "code",
   "execution_count": 54,
   "id": "e6080d8e",
   "metadata": {},
   "outputs": [],
   "source": [
    "model.compile(optimizer = optimizers.RMSprop(lr = 0.001), \n",
    "             loss = losses.binary_crossentropy, \n",
    "             metrics = metrics.binary_accuracy)"
   ]
  },
  {
   "cell_type": "code",
   "execution_count": 55,
   "id": "7c67db9e",
   "metadata": {},
   "outputs": [
    {
     "name": "stdout",
     "output_type": "stream",
     "text": [
      "Epoch 1/4\n",
      "49/49 [==============================] - 15s 54ms/step - loss: 0.5365 - binary_accuracy: 0.7319\n",
      "Epoch 2/4\n",
      "49/49 [==============================] - 2s 47ms/step - loss: 0.2584 - binary_accuracy: 0.9141\n",
      "Epoch 3/4\n",
      "49/49 [==============================] - 2s 47ms/step - loss: 0.1910 - binary_accuracy: 0.9352: 1s - loss: 0.\n",
      "Epoch 4/4\n",
      "49/49 [==============================] - 2s 47ms/step - loss: 0.1523 - binary_accuracy: 0.9483\n"
     ]
    },
    {
     "data": {
      "text/plain": [
       "<tensorflow.python.keras.callbacks.History at 0x1e51149e5e0>"
      ]
     },
     "execution_count": 55,
     "metadata": {},
     "output_type": "execute_result"
    }
   ],
   "source": [
    "model.fit(x_train, y_train, epochs = 4, batch_size = 512)"
   ]
  },
  {
   "cell_type": "code",
   "execution_count": 56,
   "id": "77bfa5db",
   "metadata": {},
   "outputs": [
    {
     "name": "stdout",
     "output_type": "stream",
     "text": [
      "782/782 [==============================] - 6s 6ms/step - loss: 0.2964 - binary_accuracy: 0.8821\n"
     ]
    }
   ],
   "source": [
    "test_loss, test_acc = model.evaluate(x_test, y_test)"
   ]
  },
  {
   "cell_type": "code",
   "execution_count": 57,
   "id": "837b4c78",
   "metadata": {},
   "outputs": [
    {
     "name": "stdout",
     "output_type": "stream",
     "text": [
      "test_acc:  88.20800185203552\n"
     ]
    }
   ],
   "source": [
    "print(\"test_acc: \", test_acc * 100)"
   ]
  },
  {
   "cell_type": "code",
   "execution_count": null,
   "id": "13daac35",
   "metadata": {},
   "outputs": [],
   "source": []
  }
 ],
 "metadata": {
  "kernelspec": {
   "display_name": "Python 3",
   "language": "python",
   "name": "python3"
  },
  "language_info": {
   "codemirror_mode": {
    "name": "ipython",
    "version": 3
   },
   "file_extension": ".py",
   "mimetype": "text/x-python",
   "name": "python",
   "nbconvert_exporter": "python",
   "pygments_lexer": "ipython3",
   "version": "3.8.10"
  }
 },
 "nbformat": 4,
 "nbformat_minor": 5
}

{
 "cells": [
  {
   "cell_type": "markdown",
   "id": "43ae8548",
   "metadata": {},
   "source": [
    "# Mitigate Overfitting\n",
    "-------"
   ]
  },
  {
   "cell_type": "code",
   "execution_count": 1,
   "id": "c07f0e60",
   "metadata": {},
   "outputs": [],
   "source": [
    "import numpy as np \n",
    "import pandas as pd \n",
    "import matplotlib.pyplot as plt \n",
    "\n",
    "from tensorflow.keras import models, layers, losses, metrics, optimizers\n",
    "from tensorflow.keras.datasets import imdb"
   ]
  },
  {
   "cell_type": "code",
   "execution_count": 2,
   "id": "fdbadb18",
   "metadata": {},
   "outputs": [],
   "source": [
    "LIMIT_WORDS = 10000"
   ]
  },
  {
   "cell_type": "code",
   "execution_count": 3,
   "id": "ccc69bef",
   "metadata": {},
   "outputs": [
    {
     "name": "stderr",
     "output_type": "stream",
     "text": [
      "<__array_function__ internals>:5: VisibleDeprecationWarning: Creating an ndarray from ragged nested sequences (which is a list-or-tuple of lists-or-tuples-or ndarrays with different lengths or shapes) is deprecated. If you meant to do this, you must specify 'dtype=object' when creating the ndarray.\n",
      "C:\\Users\\90545\\AppData\\Roaming\\Python\\Python38\\site-packages\\tensorflow\\python\\keras\\datasets\\imdb.py:159: VisibleDeprecationWarning: Creating an ndarray from ragged nested sequences (which is a list-or-tuple of lists-or-tuples-or ndarrays with different lengths or shapes) is deprecated. If you meant to do this, you must specify 'dtype=object' when creating the ndarray.\n",
      "  x_train, y_train = np.array(xs[:idx]), np.array(labels[:idx])\n",
      "C:\\Users\\90545\\AppData\\Roaming\\Python\\Python38\\site-packages\\tensorflow\\python\\keras\\datasets\\imdb.py:160: VisibleDeprecationWarning: Creating an ndarray from ragged nested sequences (which is a list-or-tuple of lists-or-tuples-or ndarrays with different lengths or shapes) is deprecated. If you meant to do this, you must specify 'dtype=object' when creating the ndarray.\n",
      "  x_test, y_test = np.array(xs[idx:]), np.array(labels[idx:])\n"
     ]
    }
   ],
   "source": [
    "(train_data, train_labels), (test_data, test_labels) = imdb.load_data(num_words = LIMIT_WORDS)"
   ]
  },
  {
   "cell_type": "code",
   "execution_count": 4,
   "id": "344e9e63",
   "metadata": {},
   "outputs": [
    {
     "data": {
      "text/plain": [
       "(25000,)"
      ]
     },
     "execution_count": 4,
     "metadata": {},
     "output_type": "execute_result"
    }
   ],
   "source": [
    "train_data.shape"
   ]
  },
  {
   "cell_type": "code",
   "execution_count": 5,
   "id": "55607e7d",
   "metadata": {},
   "outputs": [
    {
     "data": {
      "text/plain": [
       "(25000,)"
      ]
     },
     "execution_count": 5,
     "metadata": {},
     "output_type": "execute_result"
    }
   ],
   "source": [
    "test_data.shape"
   ]
  },
  {
   "cell_type": "code",
   "execution_count": 7,
   "id": "1404a447",
   "metadata": {},
   "outputs": [
    {
     "data": {
      "text/plain": [
       "1"
      ]
     },
     "execution_count": 7,
     "metadata": {},
     "output_type": "execute_result"
    }
   ],
   "source": [
    "train_labels[0]"
   ]
  },
  {
   "cell_type": "markdown",
   "id": "fdf1183a",
   "metadata": {},
   "source": [
    "#### Vetorize Examples"
   ]
  },
  {
   "cell_type": "code",
   "execution_count": 8,
   "id": "a243965f",
   "metadata": {},
   "outputs": [],
   "source": [
    "def vectorize_sequences(sequences, dimension = LIMIT_WORDS):\n",
    "    \n",
    "    result = np.zeros((len(sequences), dimension))\n",
    "    for i, sequence in enumerate(sequences):\n",
    "        result[i, sequence] = 1\n",
    "        \n",
    "    return result"
   ]
  },
  {
   "cell_type": "code",
   "execution_count": 9,
   "id": "ec514003",
   "metadata": {},
   "outputs": [],
   "source": [
    "x_train = vectorize_sequences(train_data)\n",
    "x_test = vectorize_sequences(test_data)"
   ]
  },
  {
   "cell_type": "code",
   "execution_count": 10,
   "id": "f91d3bb3",
   "metadata": {},
   "outputs": [
    {
     "data": {
      "text/plain": [
       "(25000, 10000)"
      ]
     },
     "execution_count": 10,
     "metadata": {},
     "output_type": "execute_result"
    }
   ],
   "source": [
    "x_train.shape"
   ]
  },
  {
   "cell_type": "code",
   "execution_count": 11,
   "id": "ce719bd6",
   "metadata": {},
   "outputs": [
    {
     "data": {
      "text/plain": [
       "(25000, 10000)"
      ]
     },
     "execution_count": 11,
     "metadata": {},
     "output_type": "execute_result"
    }
   ],
   "source": [
    "x_test.shape"
   ]
  },
  {
   "cell_type": "code",
   "execution_count": null,
   "id": "7fdf5d36",
   "metadata": {},
   "outputs": [],
   "source": [
    "x_test[0]"
   ]
  },
  {
   "cell_type": "markdown",
   "id": "1389e8d2",
   "metadata": {},
   "source": [
    "#### Vectorize Labels"
   ]
  },
  {
   "cell_type": "code",
   "execution_count": 18,
   "id": "2b3ee4c5",
   "metadata": {},
   "outputs": [],
   "source": [
    "y_train = np.asarray(train_labels).astype(\"float32\")\n",
    "y_test = np.asarray(test_labels).astype(\"float32\")"
   ]
  },
  {
   "cell_type": "code",
   "execution_count": 19,
   "id": "d0641aa9",
   "metadata": {},
   "outputs": [
    {
     "data": {
      "text/plain": [
       "array([1, 0, 0, ..., 0, 1, 0], dtype=int64)"
      ]
     },
     "execution_count": 19,
     "metadata": {},
     "output_type": "execute_result"
    }
   ],
   "source": [
    "train_labels"
   ]
  },
  {
   "cell_type": "code",
   "execution_count": 20,
   "id": "d121d4bf",
   "metadata": {},
   "outputs": [
    {
     "data": {
      "text/plain": [
       "array([1., 0., 0., ..., 0., 1., 0.], dtype=float32)"
      ]
     },
     "execution_count": 20,
     "metadata": {},
     "output_type": "execute_result"
    }
   ],
   "source": [
    "y_train"
   ]
  },
  {
   "cell_type": "code",
   "execution_count": 22,
   "id": "10e47bed",
   "metadata": {},
   "outputs": [],
   "source": [
    "def compile_model(model):\n",
    "    \n",
    "    model.compile(optimizer = optimizers.RMSprop(lr = 0.001), \n",
    "                 loss = losses.binary_crossentropy, \n",
    "                 metrics = metrics.binary_accuracy)\n",
    "    \n",
    "    return model"
   ]
  },
  {
   "cell_type": "code",
   "execution_count": 24,
   "id": "11868599",
   "metadata": {},
   "outputs": [],
   "source": [
    "def fit_model(model):\n",
    "    \n",
    "    x_val = x_train[:10000]\n",
    "    partial_x_train = x_train[10000:]\n",
    "    y_val = y_train[:10000]\n",
    "    partial_y_train = y_train[10000:]\n",
    "    \n",
    "    history = model.fit(partial_x_train, \n",
    "                       partial_y_train, \n",
    "                       epochs = 20,\n",
    "                       batch_size = 512, \n",
    "                       validation_data = (x_val, y_val))\n",
    "    \n",
    "    return history"
   ]
  },
  {
   "cell_type": "code",
   "execution_count": 25,
   "id": "cb815038",
   "metadata": {},
   "outputs": [],
   "source": [
    "def plot_loss(history):\n",
    "    \n",
    "    history_dict = history.history\n",
    "    \n",
    "    loss = history_dict[\"loss\"]\n",
    "    val_loss = history_dict[\"val_loss\"]\n",
    "    \n",
    "    acc = history_dict[\"binary_accuracy\"]\n",
    "    epochs = range(1, len(acc) + 1)\n",
    "    \n",
    "    plt.plot(epochs, loss, \"bo\", label=\"Training Loss\")\n",
    "    plt.plot(epochs, val_loss, \"b\", label = \"Validation Loss\")\n",
    "    plt.title(\"Training and Validation Loss\")\n",
    "    plt.xlabel(\"Epochs\")\n",
    "    plt.ylabel(\"Loss\")\n",
    "    plt.legend()\n",
    "    plt.show()"
   ]
  },
  {
   "cell_type": "markdown",
   "id": "708c801f",
   "metadata": {},
   "source": [
    "-------------"
   ]
  },
  {
   "cell_type": "code",
   "execution_count": null,
   "id": "eaad7c10",
   "metadata": {},
   "outputs": [],
   "source": []
  },
  {
   "cell_type": "markdown",
   "id": "4bf87474",
   "metadata": {},
   "source": [
    "## Experiment 1\n",
    "\n",
    "- Replace with a smaller network"
   ]
  },
  {
   "cell_type": "code",
   "execution_count": 33,
   "id": "13e80442",
   "metadata": {},
   "outputs": [
    {
     "name": "stdout",
     "output_type": "stream",
     "text": [
      "Epoch 1/20\n",
      "30/30 [==============================] - 4s 90ms/step - loss: 0.6472 - binary_accuracy: 0.6722 - val_loss: 0.5527 - val_binary_accuracy: 0.8239\n",
      "Epoch 2/20\n",
      "30/30 [==============================] - 3s 89ms/step - loss: 0.5112 - binary_accuracy: 0.8623 - val_loss: 0.4627 - val_binary_accuracy: 0.8466\n",
      "Epoch 3/20\n",
      "30/30 [==============================] - 2s 83ms/step - loss: 0.4154 - binary_accuracy: 0.8914 - val_loss: 0.3920 - val_binary_accuracy: 0.8757\n",
      "Epoch 4/20\n",
      "30/30 [==============================] - 2s 78ms/step - loss: 0.3337 - binary_accuracy: 0.9114 - val_loss: 0.3390 - val_binary_accuracy: 0.8810\n",
      "Epoch 5/20\n",
      "30/30 [==============================] - 2s 76ms/step - loss: 0.2767 - binary_accuracy: 0.9224 - val_loss: 0.3036 - val_binary_accuracy: 0.8866\n",
      "Epoch 6/20\n",
      "30/30 [==============================] - 2s 67ms/step - loss: 0.2267 - binary_accuracy: 0.9348 - val_loss: 0.2876 - val_binary_accuracy: 0.8883\n",
      "Epoch 7/20\n",
      "30/30 [==============================] - 2s 63ms/step - loss: 0.1952 - binary_accuracy: 0.9414 - val_loss: 0.2758 - val_binary_accuracy: 0.8904\n",
      "Epoch 8/20\n",
      "30/30 [==============================] - 2s 63ms/step - loss: 0.1695 - binary_accuracy: 0.9489 - val_loss: 0.2722 - val_binary_accuracy: 0.8899\n",
      "Epoch 9/20\n",
      "30/30 [==============================] - 2s 75ms/step - loss: 0.1454 - binary_accuracy: 0.9589 - val_loss: 0.2735 - val_binary_accuracy: 0.8904\n",
      "Epoch 10/20\n",
      "30/30 [==============================] - 3s 96ms/step - loss: 0.1330 - binary_accuracy: 0.9604 - val_loss: 0.2822 - val_binary_accuracy: 0.8866\n",
      "Epoch 11/20\n",
      "30/30 [==============================] - 3s 93ms/step - loss: 0.1140 - binary_accuracy: 0.9692 - val_loss: 0.2830 - val_binary_accuracy: 0.8865\n",
      "Epoch 12/20\n",
      "30/30 [==============================] - 3s 100ms/step - loss: 0.1031 - binary_accuracy: 0.9715 - val_loss: 0.2936 - val_binary_accuracy: 0.8863\n",
      "Epoch 13/20\n",
      "30/30 [==============================] - 3s 102ms/step - loss: 0.0941 - binary_accuracy: 0.9765 - val_loss: 0.3030 - val_binary_accuracy: 0.8837\n",
      "Epoch 14/20\n",
      "30/30 [==============================] - 3s 106ms/step - loss: 0.0821 - binary_accuracy: 0.9786 - val_loss: 0.3118 - val_binary_accuracy: 0.8852\n",
      "Epoch 15/20\n",
      "30/30 [==============================] - 3s 102ms/step - loss: 0.0734 - binary_accuracy: 0.9815 - val_loss: 0.3256 - val_binary_accuracy: 0.8843\n",
      "Epoch 16/20\n",
      "30/30 [==============================] - 3s 93ms/step - loss: 0.0652 - binary_accuracy: 0.9851 - val_loss: 0.3366 - val_binary_accuracy: 0.8824\n",
      "Epoch 17/20\n",
      "30/30 [==============================] - 3s 99ms/step - loss: 0.0586 - binary_accuracy: 0.9857 - val_loss: 0.3522 - val_binary_accuracy: 0.8795\n",
      "Epoch 18/20\n",
      "30/30 [==============================] - 2s 81ms/step - loss: 0.0510 - binary_accuracy: 0.9887 - val_loss: 0.3938 - val_binary_accuracy: 0.8710\n",
      "Epoch 19/20\n",
      "30/30 [==============================] - 2s 82ms/step - loss: 0.0480 - binary_accuracy: 0.9889 - val_loss: 0.3836 - val_binary_accuracy: 0.8793\n",
      "Epoch 20/20\n",
      "30/30 [==============================] - 2s 61ms/step - loss: 0.0395 - binary_accuracy: 0.9935 - val_loss: 0.4093 - val_binary_accuracy: 0.8720\n"
     ]
    },
    {
     "data": {
      "image/png": "[encoded data removed]",
      "text/plain": [
       "<Figure size 432x288 with 1 Axes>"
      ]
     },
     "metadata": {
      "needs_background": "light"
     },
     "output_type": "display_data"
    }
   ],
   "source": [
    "model = models.Sequential()\n",
    "\n",
    "model.add(layers.Dense(4, activation = \"relu\", input_shape = (LIMIT_WORDS, )))\n",
    "model.add(layers.Dense(4, activation = \"relu\"))\n",
    "model.add(layers.Dense(1, activation =\"sigmoid\"))\n",
    "\n",
    "model = compile_model(model)\n",
    "history = fit_model(model)\n",
    "plot_loss(history)"
   ]
  },
  {
   "cell_type": "markdown",
   "id": "3a9b5797",
   "metadata": {},
   "source": [
    "--------------------"
   ]
  },
  {
   "cell_type": "code",
   "execution_count": null,
   "id": "bb1bdca1",
   "metadata": {},
   "outputs": [],
   "source": []
  },
  {
   "cell_type": "markdown",
   "id": "5cf47c3a",
   "metadata": {},
   "source": [
    "## Experiment 2\n",
    "\n",
    "- Original model"
   ]
  },
  {
   "cell_type": "code",
   "execution_count": 35,
   "id": "0d316df8",
   "metadata": {},
   "outputs": [
    {
     "name": "stdout",
     "output_type": "stream",
     "text": [
      "Epoch 1/20\n",
      "30/30 [==============================] - 11s 213ms/step - loss: 0.5925 - binary_accuracy: 0.7053 - val_loss: 0.3827 - val_binary_accuracy: 0.8712\n",
      "Epoch 2/20\n",
      "30/30 [==============================] - 3s 92ms/step - loss: 0.3161 - binary_accuracy: 0.9067 - val_loss: 0.2988 - val_binary_accuracy: 0.8926\n",
      "Epoch 3/20\n",
      "30/30 [==============================] - 4s 124ms/step - loss: 0.2179 - binary_accuracy: 0.9327 - val_loss: 0.2889 - val_binary_accuracy: 0.8864\n",
      "Epoch 4/20\n",
      "30/30 [==============================] - 4s 144ms/step - loss: 0.1659 - binary_accuracy: 0.9476 - val_loss: 0.2865 - val_binary_accuracy: 0.8873\n",
      "Epoch 5/20\n",
      "30/30 [==============================] - 3s 116ms/step - loss: 0.1353 - binary_accuracy: 0.9598 - val_loss: 0.2823 - val_binary_accuracy: 0.8871\n",
      "Epoch 6/20\n",
      "30/30 [==============================] - 4s 120ms/step - loss: 0.1079 - binary_accuracy: 0.9697 - val_loss: 0.3050 - val_binary_accuracy: 0.8799\n",
      "Epoch 7/20\n",
      "30/30 [==============================] - 3s 106ms/step - loss: 0.0929 - binary_accuracy: 0.9741 - val_loss: 0.3237 - val_binary_accuracy: 0.8774\n",
      "Epoch 8/20\n",
      "30/30 [==============================] - 3s 95ms/step - loss: 0.0728 - binary_accuracy: 0.9801 - val_loss: 0.3422 - val_binary_accuracy: 0.8815\n",
      "Epoch 9/20\n",
      "30/30 [==============================] - 3s 99ms/step - loss: 0.0618 - binary_accuracy: 0.9860 - val_loss: 0.3581 - val_binary_accuracy: 0.8799\n",
      "Epoch 10/20\n",
      "30/30 [==============================] - 3s 92ms/step - loss: 0.0487 - binary_accuracy: 0.9895 - val_loss: 0.4069 - val_binary_accuracy: 0.8675\n",
      "Epoch 11/20\n",
      "30/30 [==============================] - 4s 147ms/step - loss: 0.0384 - binary_accuracy: 0.9931 - val_loss: 0.4126 - val_binary_accuracy: 0.8710\n",
      "Epoch 12/20\n",
      "30/30 [==============================] - 4s 132ms/step - loss: 0.0295 - binary_accuracy: 0.9956 - val_loss: 0.4521 - val_binary_accuracy: 0.8751\n",
      "Epoch 13/20\n",
      "30/30 [==============================] - 3s 89ms/step - loss: 0.0257 - binary_accuracy: 0.9966 - val_loss: 0.4748 - val_binary_accuracy: 0.8679\n",
      "Epoch 14/20\n",
      "30/30 [==============================] - 3s 90ms/step - loss: 0.0161 - binary_accuracy: 0.9986 - val_loss: 0.4989 - val_binary_accuracy: 0.8695\n",
      "Epoch 15/20\n",
      "30/30 [==============================] - 3s 97ms/step - loss: 0.0147 - binary_accuracy: 0.9979 - val_loss: 0.5331 - val_binary_accuracy: 0.8712\n",
      "Epoch 16/20\n",
      "30/30 [==============================] - 2s 72ms/step - loss: 0.0103 - binary_accuracy: 0.9990 - val_loss: 0.5623 - val_binary_accuracy: 0.8655\n",
      "Epoch 17/20\n",
      "30/30 [==============================] - 2s 71ms/step - loss: 0.0071 - binary_accuracy: 0.9998 - val_loss: 0.7161 - val_binary_accuracy: 0.8581\n",
      "Epoch 18/20\n",
      "30/30 [==============================] - 3s 91ms/step - loss: 0.0107 - binary_accuracy: 0.9981 - val_loss: 0.6624 - val_binary_accuracy: 0.8675\n",
      "Epoch 19/20\n",
      "30/30 [==============================] - 3s 94ms/step - loss: 0.0045 - binary_accuracy: 0.9999 - val_loss: 0.6573 - val_binary_accuracy: 0.8672\n",
      "Epoch 20/20\n",
      "30/30 [==============================] - 3s 111ms/step - loss: 0.0040 - binary_accuracy: 0.9996 - val_loss: 0.6970 - val_binary_accuracy: 0.8651\n"
     ]
    },
    {
     "data": {
      "image/png": "[encoded data removed]",
      "text/plain": [
       "<Figure size 432x288 with 1 Axes>"
      ]
     },
     "metadata": {
      "needs_background": "light"
     },
     "output_type": "display_data"
    }
   ],
   "source": [
    "model = models.Sequential()\n",
    "\n",
    "model.add(layers.Dense(16, activation = \"relu\", input_shape = (LIMIT_WORDS, )))\n",
    "model.add(layers.Dense(16, activation = \"relu\"))\n",
    "model.add(layers.Dense(1, activation =\"sigmoid\"))\n",
    "\n",
    "model = compile_model(model)\n",
    "history = fit_model(model)\n",
    "plot_loss(history)"
   ]
  },
  {
   "cell_type": "markdown",
   "id": "549fb6e8",
   "metadata": {},
   "source": [
    "---------------"
   ]
  },
  {
   "cell_type": "code",
   "execution_count": null,
   "id": "70ae0d1d",
   "metadata": {},
   "outputs": [],
   "source": []
  },
  {
   "cell_type": "markdown",
   "id": "1da99a41",
   "metadata": {},
   "source": [
    "## Experiment 3\n",
    "\n",
    "- Replace with a network with higher capacity"
   ]
  },
  {
   "cell_type": "code",
   "execution_count": 36,
   "id": "0b3e4b33",
   "metadata": {},
   "outputs": [
    {
     "name": "stdout",
     "output_type": "stream",
     "text": [
      "Epoch 1/20\n",
      "30/30 [==============================] - 36s 679ms/step - loss: 0.6779 - binary_accuracy: 0.6942 - val_loss: 0.3344 - val_binary_accuracy: 0.8596\n",
      "Epoch 2/20\n",
      "30/30 [==============================] - 17s 582ms/step - loss: 0.2652 - binary_accuracy: 0.8978 - val_loss: 0.2949 - val_binary_accuracy: 0.8828\n",
      "Epoch 3/20\n",
      "30/30 [==============================] - 18s 617ms/step - loss: 0.1555 - binary_accuracy: 0.9442 - val_loss: 0.2821 - val_binary_accuracy: 0.8897\n",
      "Epoch 4/20\n",
      "30/30 [==============================] - 18s 593ms/step - loss: 0.0800 - binary_accuracy: 0.9772 - val_loss: 0.3419 - val_binary_accuracy: 0.8898\n",
      "Epoch 5/20\n",
      "30/30 [==============================] - 17s 558ms/step - loss: 0.0104 - binary_accuracy: 0.9980 - val_loss: 0.4752 - val_binary_accuracy: 0.8822\n",
      "Epoch 6/20\n",
      "30/30 [==============================] - 17s 585ms/step - loss: 0.1114 - binary_accuracy: 0.9858 - val_loss: 0.3929 - val_binary_accuracy: 0.8832\n",
      "Epoch 7/20\n",
      "30/30 [==============================] - 20s 657ms/step - loss: 0.0026 - binary_accuracy: 1.0000 - val_loss: 0.4993 - val_binary_accuracy: 0.8859\n",
      "Epoch 8/20\n",
      "30/30 [==============================] - 19s 637ms/step - loss: 4.1275e-04 - binary_accuracy: 1.0000 - val_loss: 0.5985 - val_binary_accuracy: 0.8864\n",
      "Epoch 9/20\n",
      "30/30 [==============================] - 21s 701ms/step - loss: 7.6293e-05 - binary_accuracy: 1.0000 - val_loss: 0.6919 - val_binary_accuracy: 0.8865\n",
      "Epoch 10/20\n",
      "30/30 [==============================] - 18s 614ms/step - loss: 1.7185e-05 - binary_accuracy: 1.0000 - val_loss: 0.7831 - val_binary_accuracy: 0.8857\n",
      "Epoch 11/20\n",
      "30/30 [==============================] - 24s 819ms/step - loss: 4.0851e-06 - binary_accuracy: 1.0000 - val_loss: 1.0081 - val_binary_accuracy: 0.8771\n",
      "Epoch 12/20\n",
      "30/30 [==============================] - 23s 777ms/step - loss: 0.6911 - binary_accuracy: 0.9432 - val_loss: 0.6801 - val_binary_accuracy: 0.8736\n",
      "Epoch 13/20\n",
      "30/30 [==============================] - 23s 778ms/step - loss: 4.0941e-04 - binary_accuracy: 1.0000 - val_loss: 0.6936 - val_binary_accuracy: 0.8750\n",
      "Epoch 14/20\n",
      "30/30 [==============================] - 21s 690ms/step - loss: 6.5059e-05 - binary_accuracy: 1.0000 - val_loss: 0.7074 - val_binary_accuracy: 0.8826\n",
      "Epoch 15/20\n",
      "30/30 [==============================] - 17s 578ms/step - loss: 1.5378e-05 - binary_accuracy: 1.0000 - val_loss: 0.7476 - val_binary_accuracy: 0.8839\n",
      "Epoch 16/20\n",
      "30/30 [==============================] - 18s 613ms/step - loss: 5.3878e-06 - binary_accuracy: 1.0000 - val_loss: 0.8099 - val_binary_accuracy: 0.8844\n",
      "Epoch 17/20\n",
      "30/30 [==============================] - 22s 744ms/step - loss: 1.8882e-06 - binary_accuracy: 1.0000 - val_loss: 0.8905 - val_binary_accuracy: 0.8854\n",
      "Epoch 18/20\n",
      "30/30 [==============================] - 27s 905ms/step - loss: 6.5581e-07 - binary_accuracy: 1.0000 - val_loss: 0.9693 - val_binary_accuracy: 0.8854\n",
      "Epoch 19/20\n",
      "30/30 [==============================] - 18s 601ms/step - loss: 2.5058e-07 - binary_accuracy: 1.0000 - val_loss: 1.0418 - val_binary_accuracy: 0.8852\n",
      "Epoch 20/20\n",
      "30/30 [==============================] - 17s 577ms/step - loss: 1.0215e-07 - binary_accuracy: 1.0000 - val_loss: 1.1047 - val_binary_accuracy: 0.8847\n"
     ]
    },
    {
     "data": {
      "image/png": "[encoded data removed]",
      "text/plain": [
       "<Figure size 432x288 with 1 Axes>"
      ]
     },
     "metadata": {
      "needs_background": "light"
     },
     "output_type": "display_data"
    }
   ],
   "source": [
    "model = models.Sequential()\n",
    "\n",
    "model.add(layers.Dense(512, activation = \"relu\", input_shape = (LIMIT_WORDS, )))\n",
    "model.add(layers.Dense(512, activation = \"relu\"))\n",
    "model.add(layers.Dense(1, activation =\"sigmoid\"))\n",
    "\n",
    "model = compile_model(model)\n",
    "history = fit_model(model)\n",
    "plot_loss(history)"
   ]
  },
  {
   "cell_type": "markdown",
   "id": "d39df025",
   "metadata": {},
   "source": [
    "--------------"
   ]
  },
  {
   "cell_type": "code",
   "execution_count": null,
   "id": "405e7255",
   "metadata": {},
   "outputs": [],
   "source": []
  },
  {
   "cell_type": "markdown",
   "id": "0f4a0f7d",
   "metadata": {},
   "source": [
    "## Experiment 4\n",
    "\n",
    "- Add **_weight regularization_**:\n",
    "    - L1 regularizers make the added cost proportional to the _absolut_value_ of the weight coefficients;\n",
    "    - L2 regularizers (weight decay), make the added cost proportional to the _square of the value_value_ of the weight coefficients;"
   ]
  },
  {
   "cell_type": "markdown",
   "id": "337fa4a8",
   "metadata": {},
   "source": [
    "#### Add L2 regularization to the original model\n",
    "\n",
    "- `l2(0.001)` means that every coefficient in the matrix of the layer will add `0.001 * weight_coefficient_value` to the loss of the network at training time \n",
    "\n",
    "- The experiment could be repeated using other _Keras_ regularizers like `l1(value)` or `l1_l2(l1=value, l2=value)`, to perform both simultaneously."
   ]
  },
  {
   "cell_type": "code",
   "execution_count": 39,
   "id": "6e05d392",
   "metadata": {},
   "outputs": [],
   "source": [
    "from tensorflow.keras import regularizers"
   ]
  },
  {
   "cell_type": "code",
   "execution_count": 41,
   "id": "33197312",
   "metadata": {},
   "outputs": [
    {
     "name": "stdout",
     "output_type": "stream",
     "text": [
      "Epoch 1/20\n",
      "30/30 [==============================] - 4s 85ms/step - loss: 0.6133 - binary_accuracy: 0.7297 - val_loss: 0.4109 - val_binary_accuracy: 0.8736\n",
      "Epoch 2/20\n",
      "30/30 [==============================] - 4s 131ms/step - loss: 0.3518 - binary_accuracy: 0.9047 - val_loss: 0.3456 - val_binary_accuracy: 0.8875\n",
      "Epoch 3/20\n",
      "30/30 [==============================] - 5s 161ms/step - loss: 0.2769 - binary_accuracy: 0.9271 - val_loss: 0.3317 - val_binary_accuracy: 0.8885\n",
      "Epoch 4/20\n",
      "30/30 [==============================] - 5s 162ms/step - loss: 0.2364 - binary_accuracy: 0.9394 - val_loss: 0.3310 - val_binary_accuracy: 0.8875\n",
      "Epoch 5/20\n",
      "30/30 [==============================] - 5s 163ms/step - loss: 0.2185 - binary_accuracy: 0.9504 - val_loss: 0.3437 - val_binary_accuracy: 0.8806\n",
      "Epoch 6/20\n",
      "30/30 [==============================] - 4s 148ms/step - loss: 0.2005 - binary_accuracy: 0.9559 - val_loss: 0.3393 - val_binary_accuracy: 0.8841\n",
      "Epoch 7/20\n",
      "30/30 [==============================] - 3s 107ms/step - loss: 0.1912 - binary_accuracy: 0.9595 - val_loss: 0.3459 - val_binary_accuracy: 0.8835\n",
      "Epoch 8/20\n",
      "30/30 [==============================] - 5s 187ms/step - loss: 0.1778 - binary_accuracy: 0.9638 - val_loss: 0.3717 - val_binary_accuracy: 0.8794\n",
      "Epoch 9/20\n",
      "30/30 [==============================] - 5s 163ms/step - loss: 0.1733 - binary_accuracy: 0.9652 - val_loss: 0.3804 - val_binary_accuracy: 0.8747\n",
      "Epoch 10/20\n",
      "30/30 [==============================] - 4s 132ms/step - loss: 0.1663 - binary_accuracy: 0.9662 - val_loss: 0.4040 - val_binary_accuracy: 0.8673\n",
      "Epoch 11/20\n",
      "30/30 [==============================] - 3s 93ms/step - loss: 0.1661 - binary_accuracy: 0.9666 - val_loss: 0.3844 - val_binary_accuracy: 0.8792\n",
      "Epoch 12/20\n",
      "30/30 [==============================] - 3s 86ms/step - loss: 0.1561 - binary_accuracy: 0.9731 - val_loss: 0.3895 - val_binary_accuracy: 0.8793\n",
      "Epoch 13/20\n",
      "30/30 [==============================] - 2s 74ms/step - loss: 0.1523 - binary_accuracy: 0.9737 - val_loss: 0.3998 - val_binary_accuracy: 0.8778\n",
      "Epoch 14/20\n",
      "30/30 [==============================] - 2s 80ms/step - loss: 0.1540 - binary_accuracy: 0.9731 - val_loss: 0.4043 - val_binary_accuracy: 0.8768\n",
      "Epoch 15/20\n",
      "30/30 [==============================] - 3s 98ms/step - loss: 0.1417 - binary_accuracy: 0.9793 - val_loss: 0.4367 - val_binary_accuracy: 0.8710\n",
      "Epoch 16/20\n",
      "30/30 [==============================] - 3s 104ms/step - loss: 0.1443 - binary_accuracy: 0.9765 - val_loss: 0.4538 - val_binary_accuracy: 0.8681\n",
      "Epoch 17/20\n",
      "30/30 [==============================] - 3s 91ms/step - loss: 0.1377 - binary_accuracy: 0.9793 - val_loss: 0.4320 - val_binary_accuracy: 0.8692\n",
      "Epoch 18/20\n",
      "30/30 [==============================] - 2s 74ms/step - loss: 0.1431 - binary_accuracy: 0.9751 - val_loss: 0.4498 - val_binary_accuracy: 0.8693\n",
      "Epoch 19/20\n",
      "30/30 [==============================] - 2s 78ms/step - loss: 0.1485 - binary_accuracy: 0.9719 - val_loss: 0.4415 - val_binary_accuracy: 0.8731\n",
      "Epoch 20/20\n",
      "30/30 [==============================] - 3s 85ms/step - loss: 0.1333 - binary_accuracy: 0.9806 - val_loss: 0.4668 - val_binary_accuracy: 0.8655\n"
     ]
    },
    {
     "data": {
      "image/png": "[encoded data removed]",
      "text/plain": [
       "<Figure size 432x288 with 1 Axes>"
      ]
     },
     "metadata": {
      "needs_background": "light"
     },
     "output_type": "display_data"
    }
   ],
   "source": [
    "model = models.Sequential()\n",
    "\n",
    "model.add(layers.Dense(16, kernel_regularizer = regularizers.l2(0.001), \n",
    "                       activation = \"relu\", \n",
    "                       input_shape = (LIMIT_WORDS, )))\n",
    "\n",
    "model.add(layers.Dense(16, kernel_regularizer = regularizers.l2(0.001), activation = \"relu\"))\n",
    "model.add(layers.Dense(1, activation =\"sigmoid\"))\n",
    "\n",
    "model = compile_model(model)\n",
    "history = fit_model(model)\n",
    "plot_loss(history)"
   ]
  },
  {
   "cell_type": "markdown",
   "id": "63d52396",
   "metadata": {},
   "source": [
    "--------------"
   ]
  },
  {
   "cell_type": "code",
   "execution_count": null,
   "id": "c89b6f67",
   "metadata": {},
   "outputs": [],
   "source": []
  },
  {
   "cell_type": "markdown",
   "id": "1f6e3de8",
   "metadata": {},
   "source": [
    "## Experiment 5\n",
    "\n",
    "- Adding _dropout_. This technique consists in setting to 0 a random ratio of fetures of an activation matrix at training time. Adding noise can cotnribute to break up the learning of irrelevant patterns."
   ]
  },
  {
   "cell_type": "code",
   "execution_count": 43,
   "id": "822e48f3",
   "metadata": {},
   "outputs": [
    {
     "name": "stdout",
     "output_type": "stream",
     "text": [
      "Epoch 1/20\n",
      "30/30 [==============================] - 12s 241ms/step - loss: 0.6404 - binary_accuracy: 0.6333 - val_loss: 0.4707 - val_binary_accuracy: 0.8621: 2s - loss: 0.6867 - \n",
      "Epoch 2/20\n",
      "30/30 [==============================] - 2s 76ms/step - loss: 0.4705 - binary_accuracy: 0.8088 - val_loss: 0.3609 - val_binary_accuracy: 0.8764\n",
      "Epoch 3/20\n",
      "30/30 [==============================] - 3s 101ms/step - loss: 0.3803 - binary_accuracy: 0.8619 - val_loss: 0.3064 - val_binary_accuracy: 0.8857\n",
      "Epoch 4/20\n",
      "30/30 [==============================] - 3s 85ms/step - loss: 0.3149 - binary_accuracy: 0.8864 - val_loss: 0.2833 - val_binary_accuracy: 0.8899\n",
      "Epoch 5/20\n",
      "30/30 [==============================] - 2s 84ms/step - loss: 0.2562 - binary_accuracy: 0.9178 - val_loss: 0.2722 - val_binary_accuracy: 0.8920\n",
      "Epoch 6/20\n",
      "30/30 [==============================] - 3s 89ms/step - loss: 0.2131 - binary_accuracy: 0.9351 - val_loss: 0.2792 - val_binary_accuracy: 0.8893\n",
      "Epoch 7/20\n",
      "30/30 [==============================] - 2s 69ms/step - loss: 0.1896 - binary_accuracy: 0.9402 - val_loss: 0.2873 - val_binary_accuracy: 0.8889\n",
      "Epoch 8/20\n",
      "30/30 [==============================] - 3s 101ms/step - loss: 0.1563 - binary_accuracy: 0.9526 - val_loss: 0.2983 - val_binary_accuracy: 0.8896\n",
      "Epoch 9/20\n",
      "30/30 [==============================] - 5s 167ms/step - loss: 0.1338 - binary_accuracy: 0.9624 - val_loss: 0.3121 - val_binary_accuracy: 0.8897\n",
      "Epoch 10/20\n",
      "30/30 [==============================] - 4s 143ms/step - loss: 0.1076 - binary_accuracy: 0.9683 - val_loss: 0.3385 - val_binary_accuracy: 0.8901\n",
      "Epoch 11/20\n",
      "30/30 [==============================] - 3s 84ms/step - loss: 0.0968 - binary_accuracy: 0.9742 - val_loss: 0.3581 - val_binary_accuracy: 0.8840\n",
      "Epoch 12/20\n",
      "30/30 [==============================] - 4s 128ms/step - loss: 0.0808 - binary_accuracy: 0.9777 - val_loss: 0.3937 - val_binary_accuracy: 0.8839\n",
      "Epoch 13/20\n",
      "30/30 [==============================] - 2s 80ms/step - loss: 0.0710 - binary_accuracy: 0.9804 - val_loss: 0.4157 - val_binary_accuracy: 0.8804\n",
      "Epoch 14/20\n",
      "30/30 [==============================] - 3s 88ms/step - loss: 0.0581 - binary_accuracy: 0.9842 - val_loss: 0.4907 - val_binary_accuracy: 0.8792\n",
      "Epoch 15/20\n",
      "30/30 [==============================] - 2s 82ms/step - loss: 0.0511 - binary_accuracy: 0.9864 - val_loss: 0.5070 - val_binary_accuracy: 0.8817\n",
      "Epoch 16/20\n",
      "30/30 [==============================] - 2s 81ms/step - loss: 0.0446 - binary_accuracy: 0.9890 - val_loss: 0.5400 - val_binary_accuracy: 0.8811\n",
      "Epoch 17/20\n",
      "30/30 [==============================] - 2s 69ms/step - loss: 0.0369 - binary_accuracy: 0.9904 - val_loss: 0.5489 - val_binary_accuracy: 0.8805\n",
      "Epoch 18/20\n",
      "30/30 [==============================] - 2s 68ms/step - loss: 0.0334 - binary_accuracy: 0.9904 - val_loss: 0.5971 - val_binary_accuracy: 0.8820\n",
      "Epoch 19/20\n",
      "30/30 [==============================] - 2s 69ms/step - loss: 0.0304 - binary_accuracy: 0.9932 - val_loss: 0.6323 - val_binary_accuracy: 0.8788\n",
      "Epoch 20/20\n",
      "30/30 [==============================] - 2s 79ms/step - loss: 0.0301 - binary_accuracy: 0.9921 - val_loss: 0.7224 - val_binary_accuracy: 0.8742\n"
     ]
    },
    {
     "data": {
      "image/png": "[encoded data removed]",
      "text/plain": [
       "<Figure size 432x288 with 1 Axes>"
      ]
     },
     "metadata": {
      "needs_background": "light"
     },
     "output_type": "display_data"
    }
   ],
   "source": [
    "model = models.Sequential()\n",
    "\n",
    "model.add(layers.Dense(16, activation = \"relu\", input_shape = (LIMIT_WORDS, )))\n",
    "model.add(layers.Dropout(0.3))\n",
    "model.add(layers.Dense(16, activation = \"relu\"))\n",
    "model.add(layers.Dropout(0.4))\n",
    "model.add(layers.Dense(1, activation =\"sigmoid\"))\n",
    "\n",
    "model = compile_model(model)\n",
    "history = fit_model(model)\n",
    "plot_loss(history)"
   ]
  },
  {
   "cell_type": "markdown",
   "id": "2ec4c5e9",
   "metadata": {},
   "source": [
    "--------------"
   ]
  },
  {
   "cell_type": "code",
   "execution_count": null,
   "id": "30fc6ee4",
   "metadata": {},
   "outputs": [],
   "source": []
  },
  {
   "cell_type": "markdown",
   "id": "151198ec",
   "metadata": {},
   "source": [
    "## Experiment 6\n",
    "\n",
    "+ Use dropout and regularizer together in same model."
   ]
  },
  {
   "cell_type": "code",
   "execution_count": 45,
   "id": "a879e780",
   "metadata": {},
   "outputs": [
    {
     "name": "stdout",
     "output_type": "stream",
     "text": [
      "Epoch 1/20\n",
      "30/30 [==============================] - 6s 87ms/step - loss: 1.8167 - binary_accuracy: 0.5902 - val_loss: 0.9074 - val_binary_accuracy: 0.7952\n",
      "Epoch 2/20\n",
      "30/30 [==============================] - 2s 73ms/step - loss: 0.9020 - binary_accuracy: 0.7152 - val_loss: 0.8421 - val_binary_accuracy: 0.8142\n",
      "Epoch 3/20\n",
      "30/30 [==============================] - 2s 63ms/step - loss: 0.8519 - binary_accuracy: 0.7386 - val_loss: 0.8020 - val_binary_accuracy: 0.8454\n",
      "Epoch 4/20\n",
      "30/30 [==============================] - 2s 65ms/step - loss: 0.8165 - binary_accuracy: 0.7644 - val_loss: 0.7803 - val_binary_accuracy: 0.8017\n",
      "Epoch 5/20\n",
      "30/30 [==============================] - 2s 65ms/step - loss: 0.7775 - binary_accuracy: 0.7772 - val_loss: 0.7236 - val_binary_accuracy: 0.8446\n",
      "Epoch 6/20\n",
      "30/30 [==============================] - 2s 65ms/step - loss: 0.7515 - binary_accuracy: 0.7945 - val_loss: 0.7021 - val_binary_accuracy: 0.8353\n",
      "Epoch 7/20\n",
      "30/30 [==============================] - 2s 83ms/step - loss: 0.7367 - binary_accuracy: 0.7960 - val_loss: 0.6936 - val_binary_accuracy: 0.8249\n",
      "Epoch 8/20\n",
      "30/30 [==============================] - 2s 77ms/step - loss: 0.7131 - binary_accuracy: 0.8011 - val_loss: 0.6626 - val_binary_accuracy: 0.8463\n",
      "Epoch 9/20\n",
      "30/30 [==============================] - 2s 75ms/step - loss: 0.7015 - binary_accuracy: 0.8091 - val_loss: 0.6435 - val_binary_accuracy: 0.8537\n",
      "Epoch 10/20\n",
      "30/30 [==============================] - 2s 65ms/step - loss: 0.6761 - binary_accuracy: 0.8244 - val_loss: 0.6233 - val_binary_accuracy: 0.8553\n",
      "Epoch 11/20\n",
      "30/30 [==============================] - 2s 58ms/step - loss: 0.6644 - binary_accuracy: 0.8298 - val_loss: 0.6241 - val_binary_accuracy: 0.8523\n",
      "Epoch 12/20\n",
      "30/30 [==============================] - 2s 60ms/step - loss: 0.6620 - binary_accuracy: 0.8276 - val_loss: 0.6135 - val_binary_accuracy: 0.8569\n",
      "Epoch 13/20\n",
      "30/30 [==============================] - 2s 56ms/step - loss: 0.6579 - binary_accuracy: 0.8355 - val_loss: 0.6096 - val_binary_accuracy: 0.8534\n",
      "Epoch 14/20\n",
      "30/30 [==============================] - 2s 60ms/step - loss: 0.6492 - binary_accuracy: 0.8372 - val_loss: 0.6005 - val_binary_accuracy: 0.8607\n",
      "Epoch 15/20\n",
      "30/30 [==============================] - 2s 74ms/step - loss: 0.6465 - binary_accuracy: 0.8380 - val_loss: 0.5990 - val_binary_accuracy: 0.8566\n",
      "Epoch 16/20\n",
      "30/30 [==============================] - 2s 75ms/step - loss: 0.6339 - binary_accuracy: 0.8361 - val_loss: 0.6038 - val_binary_accuracy: 0.8501\n",
      "Epoch 17/20\n",
      "30/30 [==============================] - 3s 87ms/step - loss: 0.6424 - binary_accuracy: 0.8351 - val_loss: 0.5897 - val_binary_accuracy: 0.8609\n",
      "Epoch 18/20\n",
      "30/30 [==============================] - 2s 74ms/step - loss: 0.6402 - binary_accuracy: 0.8372 - val_loss: 0.5940 - val_binary_accuracy: 0.8554\n",
      "Epoch 19/20\n",
      "30/30 [==============================] - 2s 65ms/step - loss: 0.6290 - binary_accuracy: 0.8429 - val_loss: 0.5941 - val_binary_accuracy: 0.8637\n",
      "Epoch 20/20\n",
      "30/30 [==============================] - 2s 67ms/step - loss: 0.6249 - binary_accuracy: 0.8465 - val_loss: 0.6250 - val_binary_accuracy: 0.8329\n"
     ]
    },
    {
     "data": {
      "image/png": "[encoded data removed]",
      "text/plain": [
       "<Figure size 432x288 with 1 Axes>"
      ]
     },
     "metadata": {
      "needs_background": "light"
     },
     "output_type": "display_data"
    }
   ],
   "source": [
    "model = models.Sequential()\n",
    "\n",
    "model.add(layers.Dense(16, kernel_regularizer = regularizers.l1_l2(0.001), \n",
    "                       activation = \"relu\", \n",
    "                       input_shape = (LIMIT_WORDS, )))\n",
    "\n",
    "model.add(layers.Dropout(0.4))\n",
    "\n",
    "model.add(layers.Dense(16, kernel_regularizer = regularizers.l1_l2(0.001), activation = \"relu\"))\n",
    "model.add(layers.Dropout(0.4))\n",
    "model.add(layers.Dense(1, activation =\"sigmoid\"))\n",
    "\n",
    "model = compile_model(model)\n",
    "history = fit_model(model)\n",
    "plot_loss(history)"
   ]
  },
  {
   "cell_type": "code",
   "execution_count": null,
   "id": "95933c05",
   "metadata": {},
   "outputs": [],
   "source": []
  },
  {
   "cell_type": "markdown",
   "id": "149bffb0",
   "metadata": {},
   "source": [
    "-----------------"
   ]
  },
  {
   "cell_type": "markdown",
   "id": "aee5b831",
   "metadata": {},
   "source": [
    "## Conclusions\n",
    "#### What to do in case of overfitting?\n",
    "- Get more training data\n",
    "- Reduce the capacity of the network\n",
    "- Add weight regularization\n",
    "- Add dropout"
   ]
  },
  {
   "cell_type": "code",
   "execution_count": null,
   "id": "0f4cc3bb",
   "metadata": {},
   "outputs": [],
   "source": []
  }
 ],
 "metadata": {
  "kernelspec": {
   "display_name": "Python 3",
   "language": "python",
   "name": "python3"
  },
  "language_info": {
   "codemirror_mode": {
    "name": "ipython",
    "version": 3
   },
   "file_extension": ".py",
   "mimetype": "text/x-python",
   "name": "python",
   "nbconvert_exporter": "python",
   "pygments_lexer": "ipython3",
   "version": "3.8.10"
  }
 },
 "nbformat": 4,
 "nbformat_minor": 5
}
